{
 "cells": [
  {
   "cell_type": "code",
   "execution_count": 2,
   "metadata": {},
   "outputs": [
    {
     "name": "stderr",
     "output_type": "stream",
     "text": [
      "/Users/andreaparra/Virtual-Envs/malaria_pl/lib/python3.9/site-packages/geopandas/_compat.py:111: UserWarning: The Shapely GEOS version (3.10.2-CAPI-1.16.0) is incompatible with the GEOS version PyGEOS was compiled with (3.10.1-CAPI-1.16.0). Conversions between both will be slow.\n",
      "  warnings.warn(\n"
     ]
    }
   ],
   "source": [
    "import pandas as pd\n",
    "from constants import *\n",
    "from sklearn.cluster import KMeans\n",
    "from flows.specific.custom_flow_from_shapefile import  CustomFlowFromShapefile\n",
    "import os\n",
    "from data_sources.specific.coca import Coca\n",
    "from data_sources.specific.gold_stock_price import GoldStockPrice\n",
    "from data_sources.specific.malaria_cases import Malaria\n",
    "from embedders.specific.identity_embedder import IdentityEmbbeder\n",
    "from embedders.specific.aggregation_embedder import AggregationEmbedder\n",
    "from embedders.specific.linear_regression_coefficient_embedder import LinearRegressionCoefficientEmbedder\n",
    "\n",
    "from clusterers.specific.identity_clusterer import IdentityClusterer\n",
    "from clusterers.specific.sklearn_vector_clusterer import SklearnVectorClusterer\n",
    "from clusterers.specific.quantile_clusterer import QuantileClusterer\n"
   ]
  },
  {
   "cell_type": "code",
   "execution_count": 3,
   "metadata": {},
   "outputs": [],
   "source": [
    "fuentes_incluidas = [Coca]\n",
    "target_col = 'malaria_num_cases_total'"
   ]
  },
  {
   "cell_type": "code",
   "execution_count": 4,
   "metadata": {},
   "outputs": [],
   "source": [
    "flow = CustomFlowFromShapefile(ID = 'basic_analysis',\n",
    "                                name = \"Basic Analysis\",\n",
    "                                time_resolution = MONTH,\n",
    "                                shapefile_location = os.path.join(GEO_DATA_FOLDER,\"municipalities/municipalities.shp\"),\n",
    "                                id_column = \"muni_id\",\n",
    "                                vector_data_sources=fuentes_incluidas,\n",
    "                                matrix_data_sources=[],\n",
    "                                embedder=AggregationEmbedder(),\n",
    "                                clusterer=QuantileClusterer(ID=\"quantile\", name=\"Quantile\", quantiles=[0.2, 0.4, 0.6, 0.8] ,column_to_cluster=\"coca_coca_total\"))"
   ]
  },
  {
   "cell_type": "code",
   "execution_count": 5,
   "metadata": {},
   "outputs": [
    {
     "name": "stdout",
     "output_type": "stream",
     "text": [
      "Loads Vector Data\n",
      "Found 1 elements\n",
      "   Extracts 1 of 1: Coca (coca) \n",
      "   Loads Data\n",
      "      No file found for year 2001\n",
      "   Builds Overlay\n"
     ]
    },
    {
     "name": "stderr",
     "output_type": "stream",
     "text": [
      "/Users/andreaparra/Dropbox/4_Work/DataLamaCovid/code/repositories/pathogen_study_regions_generator/src/utils/geographic_functions.py:61: UserWarning: `keep_geom_type=True` in overlay resulted in 2 dropped geometries of different geometry types than df1 has. Set `keep_geom_type=False` to retain all geometries\n",
      "  df_overlayed = geopandas.overlay(df_geo, df_values, how='intersection')\n"
     ]
    },
    {
     "name": "stdout",
     "output_type": "stream",
     "text": [
      "   Changes Time Resolution\n",
      "Done\n",
      "\n",
      "Loads Matrix Data\n",
      "Found 0 elements\n",
      "Done\n",
      "------------------\n"
     ]
    }
   ],
   "source": [
    "flow.initial_geography = flow.get_initial_geography()\n",
    "\n",
    "# Loads Data\n",
    "# ----------------------\n",
    "flow.df_vector, flow.df_matrix = flow.loadData(flow.initial_geography)\n",
    "flow.data_loaded = True"
   ]
  },
  {
   "cell_type": "code",
   "execution_count": 6,
   "metadata": {},
   "outputs": [
    {
     "data": {
      "text/html": [
       "<div>\n",
       "<style scoped>\n",
       "    .dataframe tbody tr th:only-of-type {\n",
       "        vertical-align: middle;\n",
       "    }\n",
       "\n",
       "    .dataframe tbody tr th {\n",
       "        vertical-align: top;\n",
       "    }\n",
       "\n",
       "    .dataframe thead th {\n",
       "        text-align: right;\n",
       "    }\n",
       "</style>\n",
       "<table border=\"1\" class=\"dataframe\">\n",
       "  <thead>\n",
       "    <tr style=\"text-align: right;\">\n",
       "      <th></th>\n",
       "      <th>ID</th>\n",
       "      <th>date</th>\n",
       "      <th>coca_coca_total</th>\n",
       "    </tr>\n",
       "  </thead>\n",
       "  <tbody>\n",
       "    <tr>\n",
       "      <th>0</th>\n",
       "      <td>5467</td>\n",
       "      <td>2000-01-31</td>\n",
       "      <td>0.000000e+00</td>\n",
       "    </tr>\n",
       "    <tr>\n",
       "      <th>1</th>\n",
       "      <td>63690</td>\n",
       "      <td>2000-01-31</td>\n",
       "      <td>0.000000e+00</td>\n",
       "    </tr>\n",
       "    <tr>\n",
       "      <th>2</th>\n",
       "      <td>13873</td>\n",
       "      <td>2000-01-31</td>\n",
       "      <td>0.000000e+00</td>\n",
       "    </tr>\n",
       "    <tr>\n",
       "      <th>3</th>\n",
       "      <td>66001</td>\n",
       "      <td>2000-01-31</td>\n",
       "      <td>0.000000e+00</td>\n",
       "    </tr>\n",
       "    <tr>\n",
       "      <th>4</th>\n",
       "      <td>66045</td>\n",
       "      <td>2000-01-31</td>\n",
       "      <td>0.000000e+00</td>\n",
       "    </tr>\n",
       "    <tr>\n",
       "      <th>...</th>\n",
       "      <td>...</td>\n",
       "      <td>...</td>\n",
       "      <td>...</td>\n",
       "    </tr>\n",
       "    <tr>\n",
       "      <th>255811</th>\n",
       "      <td>13838</td>\n",
       "      <td>2019-12-31</td>\n",
       "      <td>0.000000e+00</td>\n",
       "    </tr>\n",
       "    <tr>\n",
       "      <th>255812</th>\n",
       "      <td>68081</td>\n",
       "      <td>2019-12-31</td>\n",
       "      <td>0.000000e+00</td>\n",
       "    </tr>\n",
       "    <tr>\n",
       "      <th>255813</th>\n",
       "      <td>25875</td>\n",
       "      <td>2019-12-31</td>\n",
       "      <td>0.000000e+00</td>\n",
       "    </tr>\n",
       "    <tr>\n",
       "      <th>255814</th>\n",
       "      <td>68079</td>\n",
       "      <td>2019-12-31</td>\n",
       "      <td>0.000000e+00</td>\n",
       "    </tr>\n",
       "    <tr>\n",
       "      <th>255815</th>\n",
       "      <td>99773</td>\n",
       "      <td>2019-12-31</td>\n",
       "      <td>3.428745e+10</td>\n",
       "    </tr>\n",
       "  </tbody>\n",
       "</table>\n",
       "<p>255816 rows × 3 columns</p>\n",
       "</div>"
      ],
      "text/plain": [
       "           ID       date  coca_coca_total\n",
       "0        5467 2000-01-31     0.000000e+00\n",
       "1       63690 2000-01-31     0.000000e+00\n",
       "2       13873 2000-01-31     0.000000e+00\n",
       "3       66001 2000-01-31     0.000000e+00\n",
       "4       66045 2000-01-31     0.000000e+00\n",
       "...       ...        ...              ...\n",
       "255811  13838 2019-12-31     0.000000e+00\n",
       "255812  68081 2019-12-31     0.000000e+00\n",
       "255813  25875 2019-12-31     0.000000e+00\n",
       "255814  68079 2019-12-31     0.000000e+00\n",
       "255815  99773 2019-12-31     3.428745e+10\n",
       "\n",
       "[255816 rows x 3 columns]"
      ]
     },
     "execution_count": 6,
     "metadata": {},
     "output_type": "execute_result"
    }
   ],
   "source": [
    "flow.df_vector"
   ]
  },
  {
   "cell_type": "code",
   "execution_count": 7,
   "metadata": {},
   "outputs": [
    {
     "data": {
      "text/html": [
       "<div>\n",
       "<style scoped>\n",
       "    .dataframe tbody tr th:only-of-type {\n",
       "        vertical-align: middle;\n",
       "    }\n",
       "\n",
       "    .dataframe tbody tr th {\n",
       "        vertical-align: top;\n",
       "    }\n",
       "\n",
       "    .dataframe thead th {\n",
       "        text-align: right;\n",
       "    }\n",
       "</style>\n",
       "<table border=\"1\" class=\"dataframe\">\n",
       "  <thead>\n",
       "    <tr style=\"text-align: right;\">\n",
       "      <th></th>\n",
       "      <th>ID</th>\n",
       "      <th>coca_coca_total</th>\n",
       "    </tr>\n",
       "  </thead>\n",
       "  <tbody>\n",
       "    <tr>\n",
       "      <th>0</th>\n",
       "      <td>5001</td>\n",
       "      <td>0.000000e+00</td>\n",
       "    </tr>\n",
       "    <tr>\n",
       "      <th>1</th>\n",
       "      <td>5002</td>\n",
       "      <td>0.000000e+00</td>\n",
       "    </tr>\n",
       "    <tr>\n",
       "      <th>2</th>\n",
       "      <td>5004</td>\n",
       "      <td>7.823189e+08</td>\n",
       "    </tr>\n",
       "    <tr>\n",
       "      <th>3</th>\n",
       "      <td>5021</td>\n",
       "      <td>0.000000e+00</td>\n",
       "    </tr>\n",
       "    <tr>\n",
       "      <th>4</th>\n",
       "      <td>5030</td>\n",
       "      <td>0.000000e+00</td>\n",
       "    </tr>\n",
       "    <tr>\n",
       "      <th>...</th>\n",
       "      <td>...</td>\n",
       "      <td>...</td>\n",
       "    </tr>\n",
       "    <tr>\n",
       "      <th>1117</th>\n",
       "      <td>97889</td>\n",
       "      <td>6.206975e+12</td>\n",
       "    </tr>\n",
       "    <tr>\n",
       "      <th>1118</th>\n",
       "      <td>99001</td>\n",
       "      <td>3.591033e+12</td>\n",
       "    </tr>\n",
       "    <tr>\n",
       "      <th>1119</th>\n",
       "      <td>99524</td>\n",
       "      <td>2.993756e+12</td>\n",
       "    </tr>\n",
       "    <tr>\n",
       "      <th>1120</th>\n",
       "      <td>99624</td>\n",
       "      <td>2.630580e+10</td>\n",
       "    </tr>\n",
       "    <tr>\n",
       "      <th>1121</th>\n",
       "      <td>99773</td>\n",
       "      <td>4.946753e+13</td>\n",
       "    </tr>\n",
       "  </tbody>\n",
       "</table>\n",
       "<p>1122 rows × 2 columns</p>\n",
       "</div>"
      ],
      "text/plain": [
       "         ID  coca_coca_total\n",
       "0      5001     0.000000e+00\n",
       "1      5002     0.000000e+00\n",
       "2      5004     7.823189e+08\n",
       "3      5021     0.000000e+00\n",
       "4      5030     0.000000e+00\n",
       "...     ...              ...\n",
       "1117  97889     6.206975e+12\n",
       "1118  99001     3.591033e+12\n",
       "1119  99524     2.993756e+12\n",
       "1120  99624     2.630580e+10\n",
       "1121  99773     4.946753e+13\n",
       "\n",
       "[1122 rows x 2 columns]"
      ]
     },
     "execution_count": 7,
     "metadata": {},
     "output_type": "execute_result"
    }
   ],
   "source": [
    "# Embbeds Data\n",
    "# ----------------------\n",
    "flow.embeddData()\n",
    "flow.data_embedded = True\n",
    "\n",
    "flow.df_embedded_vector"
   ]
  },
  {
   "cell_type": "code",
   "execution_count": 8,
   "metadata": {},
   "outputs": [
    {
     "data": {
      "text/html": [
       "<div>\n",
       "<style scoped>\n",
       "    .dataframe tbody tr th:only-of-type {\n",
       "        vertical-align: middle;\n",
       "    }\n",
       "\n",
       "    .dataframe tbody tr th {\n",
       "        vertical-align: top;\n",
       "    }\n",
       "\n",
       "    .dataframe thead th {\n",
       "        text-align: right;\n",
       "    }\n",
       "</style>\n",
       "<table border=\"1\" class=\"dataframe\">\n",
       "  <thead>\n",
       "    <tr style=\"text-align: right;\">\n",
       "      <th></th>\n",
       "      <th>ID</th>\n",
       "      <th>cluster_id</th>\n",
       "    </tr>\n",
       "  </thead>\n",
       "  <tbody>\n",
       "    <tr>\n",
       "      <th>0</th>\n",
       "      <td>5001</td>\n",
       "      <td>2</td>\n",
       "    </tr>\n",
       "    <tr>\n",
       "      <th>1</th>\n",
       "      <td>5002</td>\n",
       "      <td>2</td>\n",
       "    </tr>\n",
       "    <tr>\n",
       "      <th>2</th>\n",
       "      <td>5004</td>\n",
       "      <td>2</td>\n",
       "    </tr>\n",
       "    <tr>\n",
       "      <th>3</th>\n",
       "      <td>5021</td>\n",
       "      <td>2</td>\n",
       "    </tr>\n",
       "    <tr>\n",
       "      <th>4</th>\n",
       "      <td>5030</td>\n",
       "      <td>2</td>\n",
       "    </tr>\n",
       "    <tr>\n",
       "      <th>...</th>\n",
       "      <td>...</td>\n",
       "      <td>...</td>\n",
       "    </tr>\n",
       "    <tr>\n",
       "      <th>1117</th>\n",
       "      <td>97777</td>\n",
       "      <td>3</td>\n",
       "    </tr>\n",
       "    <tr>\n",
       "      <th>1118</th>\n",
       "      <td>97889</td>\n",
       "      <td>3</td>\n",
       "    </tr>\n",
       "    <tr>\n",
       "      <th>1119</th>\n",
       "      <td>99001</td>\n",
       "      <td>3</td>\n",
       "    </tr>\n",
       "    <tr>\n",
       "      <th>1120</th>\n",
       "      <td>99524</td>\n",
       "      <td>3</td>\n",
       "    </tr>\n",
       "    <tr>\n",
       "      <th>1121</th>\n",
       "      <td>99773</td>\n",
       "      <td>3</td>\n",
       "    </tr>\n",
       "  </tbody>\n",
       "</table>\n",
       "<p>1122 rows × 2 columns</p>\n",
       "</div>"
      ],
      "text/plain": [
       "         ID cluster_id\n",
       "0      5001          2\n",
       "1      5002          2\n",
       "2      5004          2\n",
       "3      5021          2\n",
       "4      5030          2\n",
       "...     ...        ...\n",
       "1117  97777          3\n",
       "1118  97889          3\n",
       "1119  99001          3\n",
       "1120  99524          3\n",
       "1121  99773          3\n",
       "\n",
       "[1122 rows x 2 columns]"
      ]
     },
     "execution_count": 8,
     "metadata": {},
     "output_type": "execute_result"
    }
   ],
   "source": [
    "# Clusters Data\n",
    "# ----------------------\n",
    "flow.clusterData()\n",
    "flow.data_clustered = True\n",
    "flow.clustered_ids"
   ]
  },
  {
   "cell_type": "code",
   "execution_count": 9,
   "metadata": {},
   "outputs": [],
   "source": [
    "# Builds final geography\n",
    "# ----------------------\n",
    "flow.buildFinalGeography()"
   ]
  },
  {
   "cell_type": "code",
   "execution_count": 10,
   "metadata": {},
   "outputs": [
    {
     "data": {
      "text/html": [
       "<div>\n",
       "<style scoped>\n",
       "    .dataframe tbody tr th:only-of-type {\n",
       "        vertical-align: middle;\n",
       "    }\n",
       "\n",
       "    .dataframe tbody tr th {\n",
       "        vertical-align: top;\n",
       "    }\n",
       "\n",
       "    .dataframe thead th {\n",
       "        text-align: right;\n",
       "    }\n",
       "</style>\n",
       "<table border=\"1\" class=\"dataframe\">\n",
       "  <thead>\n",
       "    <tr style=\"text-align: right;\">\n",
       "      <th></th>\n",
       "      <th>ID</th>\n",
       "      <th>geometry</th>\n",
       "    </tr>\n",
       "  </thead>\n",
       "  <tbody>\n",
       "    <tr>\n",
       "      <th>0</th>\n",
       "      <td>2</td>\n",
       "      <td>MULTIPOLYGON (((-77.22707 0.68013, -77.22708 0...</td>\n",
       "    </tr>\n",
       "    <tr>\n",
       "      <th>1</th>\n",
       "      <td>3</td>\n",
       "      <td>MULTIPOLYGON (((-77.14026 0.37418, -77.14034 0...</td>\n",
       "    </tr>\n",
       "  </tbody>\n",
       "</table>\n",
       "</div>"
      ],
      "text/plain": [
       "   ID                                           geometry\n",
       "0   2  MULTIPOLYGON (((-77.22707 0.68013, -77.22708 0...\n",
       "1   3  MULTIPOLYGON (((-77.14026 0.37418, -77.14034 0..."
      ]
     },
     "execution_count": 10,
     "metadata": {},
     "output_type": "execute_result"
    }
   ],
   "source": [
    "flow.final_geography"
   ]
  },
  {
   "cell_type": "code",
   "execution_count": 11,
   "metadata": {},
   "outputs": [
    {
     "data": {
      "text/plain": [
       "<AxesSubplot:>"
      ]
     },
     "execution_count": 11,
     "metadata": {},
     "output_type": "execute_result"
    },
    {
     "data": {
      "image/png": "[encoded data removed]",
      "text/plain": [
       "<Figure size 576x576 with 1 Axes>"
      ]
     },
     "metadata": {
      "needs_background": "light"
     },
     "output_type": "display_data"
    }
   ],
   "source": [
    "flow.final_geography[CLUSTER_ID] = flow.final_geography[ID].apply(lambda i : f\"Cluster {i}\")\n",
    "flow.final_geography.plot(column = CLUSTER_ID, figsize = (8,8), legend=True)"
   ]
  },
  {
   "cell_type": "code",
   "execution_count": null,
   "metadata": {},
   "outputs": [],
   "source": []
  }
 ],
 "metadata": {
  "kernelspec": {
   "display_name": "malaria_pl",
   "language": "python",
   "name": "malaria_pl"
  },
  "language_info": {
   "codemirror_mode": {
    "name": "ipython",
    "version": 3
   },
   "file_extension": ".py",
   "mimetype": "text/x-python",
   "name": "python",
   "nbconvert_exporter": "python",
   "pygments_lexer": "ipython3",
   "version": "3.9.7"
  },
  "orig_nbformat": 4
 },
 "nbformat": 4,
 "nbformat_minor": 2
}
