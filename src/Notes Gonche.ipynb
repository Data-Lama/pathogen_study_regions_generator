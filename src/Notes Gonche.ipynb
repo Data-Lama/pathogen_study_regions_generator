{
 "cells": [
  {
   "cell_type": "markdown",
   "metadata": {},
   "source": [
    "# Notes"
   ]
  },
  {
   "cell_type": "code",
   "execution_count": 1,
   "metadata": {},
   "outputs": [
    {
     "name": "stderr",
     "output_type": "stream",
     "text": [
      "/home/minigonche/Dropbox/Projects/pathogen_study_regions_generator/env/lib/python3.8/site-packages/geopandas/_compat.py:111: UserWarning: The Shapely GEOS version (3.9.1-CAPI-1.14.2) is incompatible with the GEOS version PyGEOS was compiled with (3.10.1-CAPI-1.16.0). Conversions between both will be slow.\n",
      "  warnings.warn(\n"
     ]
    }
   ],
   "source": [
    "import pandas as pd\n",
    "from constants import *\n",
    "from data_sources.specific.coca import Coca\n",
    "from data_sources.general.official_commodity import OfficialCommodity\n",
    "import yfinance as yf"
   ]
  },
  {
   "cell_type": "code",
   "execution_count": 2,
   "metadata": {},
   "outputs": [],
   "source": [
    "ds = Coca()"
   ]
  },
  {
   "cell_type": "code",
   "execution_count": 3,
   "metadata": {},
   "outputs": [],
   "source": [
    "import geopandas \n",
    "\n",
    "# Loads the municipalities\n",
    "df_geo = geopandas.read_file(\"/home/minigonche/Dropbox/Projects/malaria_mining/data/cleaned/geo/municipalities/municipalities.shp\")\n",
    "df_geo = df_geo.rename(columns = {'muni_id':ID})"
   ]
  },
  {
   "cell_type": "code",
   "execution_count": 4,
   "metadata": {},
   "outputs": [
    {
     "name": "stdout",
     "output_type": "stream",
     "text": [
      "      Loads Data\n",
      "            No file found for year 2001\n",
      "      Builds Overlay\n",
      "      Changes Time Resolution\n"
     ]
    },
    {
     "data": {
      "text/html": [
       "<div>\n",
       "<style scoped>\n",
       "    .dataframe tbody tr th:only-of-type {\n",
       "        vertical-align: middle;\n",
       "    }\n",
       "\n",
       "    .dataframe tbody tr th {\n",
       "        vertical-align: top;\n",
       "    }\n",
       "\n",
       "    .dataframe thead th {\n",
       "        text-align: right;\n",
       "    }\n",
       "</style>\n",
       "<table border=\"1\" class=\"dataframe\">\n",
       "  <thead>\n",
       "    <tr style=\"text-align: right;\">\n",
       "      <th></th>\n",
       "      <th>ID</th>\n",
       "      <th>date</th>\n",
       "      <th>coca_total</th>\n",
       "    </tr>\n",
       "  </thead>\n",
       "  <tbody>\n",
       "    <tr>\n",
       "      <th>0</th>\n",
       "      <td>5004</td>\n",
       "      <td>2000-12-31</td>\n",
       "      <td>6.519325e+07</td>\n",
       "    </tr>\n",
       "    <tr>\n",
       "      <th>1</th>\n",
       "      <td>5031</td>\n",
       "      <td>2000-12-31</td>\n",
       "      <td>1.372497e+10</td>\n",
       "    </tr>\n",
       "    <tr>\n",
       "      <th>2</th>\n",
       "      <td>5040</td>\n",
       "      <td>2000-12-31</td>\n",
       "      <td>1.748810e+10</td>\n",
       "    </tr>\n",
       "    <tr>\n",
       "      <th>3</th>\n",
       "      <td>5045</td>\n",
       "      <td>2000-12-31</td>\n",
       "      <td>1.445514e+06</td>\n",
       "    </tr>\n",
       "    <tr>\n",
       "      <th>4</th>\n",
       "      <td>5051</td>\n",
       "      <td>2000-12-31</td>\n",
       "      <td>2.695436e+09</td>\n",
       "    </tr>\n",
       "    <tr>\n",
       "      <th>...</th>\n",
       "      <td>...</td>\n",
       "      <td>...</td>\n",
       "      <td>...</td>\n",
       "    </tr>\n",
       "    <tr>\n",
       "      <th>278</th>\n",
       "      <td>97777</td>\n",
       "      <td>2000-12-31</td>\n",
       "      <td>8.497405e+09</td>\n",
       "    </tr>\n",
       "    <tr>\n",
       "      <th>279</th>\n",
       "      <td>97889</td>\n",
       "      <td>2000-12-31</td>\n",
       "      <td>3.423971e+10</td>\n",
       "    </tr>\n",
       "    <tr>\n",
       "      <th>280</th>\n",
       "      <td>99001</td>\n",
       "      <td>2000-12-31</td>\n",
       "      <td>1.666804e+09</td>\n",
       "    </tr>\n",
       "    <tr>\n",
       "      <th>281</th>\n",
       "      <td>99524</td>\n",
       "      <td>2000-12-31</td>\n",
       "      <td>1.724777e+10</td>\n",
       "    </tr>\n",
       "    <tr>\n",
       "      <th>282</th>\n",
       "      <td>99773</td>\n",
       "      <td>2000-12-31</td>\n",
       "      <td>2.495579e+11</td>\n",
       "    </tr>\n",
       "  </tbody>\n",
       "</table>\n",
       "<p>283 rows × 3 columns</p>\n",
       "</div>"
      ],
      "text/plain": [
       "        ID       date    coca_total\n",
       "0     5004 2000-12-31  6.519325e+07\n",
       "1     5031 2000-12-31  1.372497e+10\n",
       "2     5040 2000-12-31  1.748810e+10\n",
       "3     5045 2000-12-31  1.445514e+06\n",
       "4     5051 2000-12-31  2.695436e+09\n",
       "..     ...        ...           ...\n",
       "278  97777 2000-12-31  8.497405e+09\n",
       "279  97889 2000-12-31  3.423971e+10\n",
       "280  99001 2000-12-31  1.666804e+09\n",
       "281  99524 2000-12-31  1.724777e+10\n",
       "282  99773 2000-12-31  2.495579e+11\n",
       "\n",
       "[283 rows x 3 columns]"
      ]
     },
     "execution_count": 4,
     "metadata": {},
     "output_type": "execute_result"
    }
   ],
   "source": [
    "df = ds.createData(df_geo, WEEK)\n",
    "df"
   ]
  },
  {
   "cell_type": "code",
   "execution_count": 5,
   "metadata": {},
   "outputs": [
    {
     "data": {
      "text/html": [
       "<div>\n",
       "<style scoped>\n",
       "    .dataframe tbody tr th:only-of-type {\n",
       "        vertical-align: middle;\n",
       "    }\n",
       "\n",
       "    .dataframe tbody tr th {\n",
       "        vertical-align: top;\n",
       "    }\n",
       "\n",
       "    .dataframe thead th {\n",
       "        text-align: right;\n",
       "    }\n",
       "</style>\n",
       "<table border=\"1\" class=\"dataframe\">\n",
       "  <thead>\n",
       "    <tr style=\"text-align: right;\">\n",
       "      <th></th>\n",
       "      <th>date</th>\n",
       "      <th>maximum_2m</th>\n",
       "      <th>count</th>\n",
       "      <th>geometry</th>\n",
       "    </tr>\n",
       "  </thead>\n",
       "  <tbody>\n",
       "    <tr>\n",
       "      <th>0</th>\n",
       "      <td>947376000000</td>\n",
       "      <td>303</td>\n",
       "      <td>1680</td>\n",
       "      <td>POLYGON ((-66.25075 9.00112, -66.25075 9.50418...</td>\n",
       "    </tr>\n",
       "    <tr>\n",
       "      <th>1</th>\n",
       "      <td>947376000000</td>\n",
       "      <td>301</td>\n",
       "      <td>810</td>\n",
       "      <td>POLYGON ((-66.25075 9.50418, -66.25075 9.74672...</td>\n",
       "    </tr>\n",
       "    <tr>\n",
       "      <th>2</th>\n",
       "      <td>947376000000</td>\n",
       "      <td>300</td>\n",
       "      <td>56</td>\n",
       "      <td>POLYGON ((-65.99922 0.74560, -65.99922 0.99713...</td>\n",
       "    </tr>\n",
       "    <tr>\n",
       "      <th>3</th>\n",
       "      <td>947376000000</td>\n",
       "      <td>299</td>\n",
       "      <td>37386</td>\n",
       "      <td>POLYGON ((-70.49978 12.69319, -65.98126 12.693...</td>\n",
       "    </tr>\n",
       "    <tr>\n",
       "      <th>4</th>\n",
       "      <td>947376000000</td>\n",
       "      <td>302</td>\n",
       "      <td>1652</td>\n",
       "      <td>MULTIPOLYGON (((-65.99922 0.99713, -65.99922 1...</td>\n",
       "    </tr>\n",
       "    <tr>\n",
       "      <th>...</th>\n",
       "      <td>...</td>\n",
       "      <td>...</td>\n",
       "      <td>...</td>\n",
       "      <td>...</td>\n",
       "    </tr>\n",
       "    <tr>\n",
       "      <th>696887</th>\n",
       "      <td>1578182400000</td>\n",
       "      <td>303</td>\n",
       "      <td>702</td>\n",
       "      <td>POLYGON ((-80.48007 -3.74597, -80.48007 -3.503...</td>\n",
       "    </tr>\n",
       "    <tr>\n",
       "      <th>696888</th>\n",
       "      <td>1578182400000</td>\n",
       "      <td>303</td>\n",
       "      <td>2968</td>\n",
       "      <td>MULTIPOLYGON (((-80.24650 -5.00362, -80.24650 ...</td>\n",
       "    </tr>\n",
       "    <tr>\n",
       "      <th>696889</th>\n",
       "      <td>1578182400000</td>\n",
       "      <td>304</td>\n",
       "      <td>728</td>\n",
       "      <td>POLYGON ((-80.48007 -4.75209, -80.48007 -4.500...</td>\n",
       "    </tr>\n",
       "    <tr>\n",
       "      <th>696890</th>\n",
       "      <td>1578182400000</td>\n",
       "      <td>306</td>\n",
       "      <td>1092</td>\n",
       "      <td>POLYGON ((-80.48007 -5.12938, -80.48007 -4.752...</td>\n",
       "    </tr>\n",
       "    <tr>\n",
       "      <th>696891</th>\n",
       "      <td>1578182400000</td>\n",
       "      <td>301</td>\n",
       "      <td>728</td>\n",
       "      <td>POLYGON ((-80.48007 -0.99713, -80.48007 -0.745...</td>\n",
       "    </tr>\n",
       "  </tbody>\n",
       "</table>\n",
       "<p>696892 rows × 4 columns</p>\n",
       "</div>"
      ],
      "text/plain": [
       "                 date  maximum_2m  count  \\\n",
       "0        947376000000         303   1680   \n",
       "1        947376000000         301    810   \n",
       "2        947376000000         300     56   \n",
       "3        947376000000         299  37386   \n",
       "4        947376000000         302   1652   \n",
       "...               ...         ...    ...   \n",
       "696887  1578182400000         303    702   \n",
       "696888  1578182400000         303   2968   \n",
       "696889  1578182400000         304    728   \n",
       "696890  1578182400000         306   1092   \n",
       "696891  1578182400000         301    728   \n",
       "\n",
       "                                                 geometry  \n",
       "0       POLYGON ((-66.25075 9.00112, -66.25075 9.50418...  \n",
       "1       POLYGON ((-66.25075 9.50418, -66.25075 9.74672...  \n",
       "2       POLYGON ((-65.99922 0.74560, -65.99922 0.99713...  \n",
       "3       POLYGON ((-70.49978 12.69319, -65.98126 12.693...  \n",
       "4       MULTIPOLYGON (((-65.99922 0.99713, -65.99922 1...  \n",
       "...                                                   ...  \n",
       "696887  POLYGON ((-80.48007 -3.74597, -80.48007 -3.503...  \n",
       "696888  MULTIPOLYGON (((-80.24650 -5.00362, -80.24650 ...  \n",
       "696889  POLYGON ((-80.48007 -4.75209, -80.48007 -4.500...  \n",
       "696890  POLYGON ((-80.48007 -5.12938, -80.48007 -4.752...  \n",
       "696891  POLYGON ((-80.48007 -0.99713, -80.48007 -0.745...  \n",
       "\n",
       "[696892 rows x 4 columns]"
      ]
     },
     "execution_count": 5,
     "metadata": {},
     "output_type": "execute_result"
    }
   ],
   "source": [
    "df_geo = geopandas.read_file(\"/home/minigonche/Dropbox/Projects/malaria_mining/data/pipeline_data/raw/weather_shapefiles/maximum_2m_air_temperature_2000_2020.shp\")\n",
    "df_geo"
   ]
  },
  {
   "cell_type": "code",
   "execution_count": 7,
   "metadata": {},
   "outputs": [
    {
     "data": {
      "text/plain": [
       "0        2000-01-09\n",
       "1        2000-01-09\n",
       "2        2000-01-09\n",
       "3        2000-01-09\n",
       "4        2000-01-09\n",
       "            ...    \n",
       "696887   2020-01-05\n",
       "696888   2020-01-05\n",
       "696889   2020-01-05\n",
       "696890   2020-01-05\n",
       "696891   2020-01-05\n",
       "Name: date, Length: 696892, dtype: datetime64[ns]"
      ]
     },
     "execution_count": 7,
     "metadata": {},
     "output_type": "execute_result"
    }
   ],
   "source": [
    "pd.to_datetime(df_geo.date, unit='ms')"
   ]
  },
  {
   "cell_type": "code",
   "execution_count": null,
   "metadata": {},
   "outputs": [],
   "source": []
  }
 ],
 "metadata": {
  "interpreter": {
   "hash": "97a62edebe0a5c6a538f0e0d3fc8198b7b1a1e86f6fad11ae165ad7e1575e6d6"
  },
  "kernelspec": {
   "display_name": "Python 3.8.10 64-bit ('env': venv)",
   "language": "python",
   "name": "python3"
  },
  "language_info": {
   "codemirror_mode": {
    "name": "ipython",
    "version": 3
   },
   "file_extension": ".py",
   "mimetype": "text/x-python",
   "name": "python",
   "nbconvert_exporter": "python",
   "pygments_lexer": "ipython3",
   "version": "3.8.10"
  },
  "orig_nbformat": 4
 },
 "nbformat": 4,
 "nbformat_minor": 2
}
