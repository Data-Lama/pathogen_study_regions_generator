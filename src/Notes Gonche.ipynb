{
 "cells": [
  {
   "cell_type": "markdown",
   "metadata": {},
   "source": [
    "# Notes"
   ]
  },
  {
   "cell_type": "code",
   "execution_count": 1,
   "metadata": {},
   "outputs": [],
   "source": [
    "import pandas as pd\n",
    "from constants import *"
   ]
  },
  {
   "cell_type": "code",
   "execution_count": 2,
   "metadata": {},
   "outputs": [
    {
     "name": "stdout",
     "output_type": "stream",
     "text": [
      "The Zen of Python, by Tim Peters\n",
      "\n",
      "Beautiful is better than ugly.\n",
      "Explicit is better than implicit.\n",
      "Simple is better than complex.\n",
      "Complex is better than complicated.\n",
      "Flat is better than nested.\n",
      "Sparse is better than dense.\n",
      "Readability counts.\n",
      "Special cases aren't special enough to break the rules.\n",
      "Although practicality beats purity.\n",
      "Errors should never pass silently.\n",
      "Unless explicitly silenced.\n",
      "In the face of ambiguity, refuse the temptation to guess.\n",
      "There should be one-- and preferably only one --obvious way to do it.\n",
      "Although that way may not be obvious at first unless you're Dutch.\n",
      "Now is better than never.\n",
      "Although never is often better than *right* now.\n",
      "If the implementation is hard to explain, it's a bad idea.\n",
      "If the implementation is easy to explain, it may be a good idea.\n",
      "Namespaces are one honking great idea -- let's do more of those!\n"
     ]
    },
    {
     "name": "stderr",
     "output_type": "stream",
     "text": [
      "/home/minigonche/Dropbox/Projects/pathogen_study_regions_generator/env/lib/python3.8/site-packages/geopandas/_compat.py:111: UserWarning: The Shapely GEOS version (3.9.1-CAPI-1.14.2) is incompatible with the GEOS version PyGEOS was compiled with (3.10.1-CAPI-1.16.0). Conversions between both will be slow.\n",
      "  warnings.warn(\n"
     ]
    }
   ],
   "source": [
    "from data_sources.data_from_yearly_shapefiles import DataFromYearlyShapefiles"
   ]
  },
  {
   "cell_type": "code",
   "execution_count": 3,
   "metadata": {},
   "outputs": [],
   "source": [
    "ds = DataFromYearlyShapefiles('COCA',\n",
    "                        \"coca\",\n",
    "                            \"coca_fields_shapes\",                            \n",
    "                            \"coca_fields_{year}.shp\",\n",
    "                            ['coca'],\n",
    "                            2000,\n",
    "                            2002,\n",
    "                            normalize=None,\n",
    "                            included_groupings=[TOTAL])"
   ]
  },
  {
   "cell_type": "code",
   "execution_count": 4,
   "metadata": {},
   "outputs": [],
   "source": [
    "import geopandas \n",
    "\n",
    "# Loads the municipalities\n",
    "df_geo = geopandas.read_file(\"/home/minigonche/Dropbox/Projects/malaria_mining/data/cleaned/geo/municipalities/municipalities.shp\")\n",
    "df_geo = df_geo.rename(columns = {'muni_id':ID})"
   ]
  },
  {
   "cell_type": "code",
   "execution_count": 5,
   "metadata": {},
   "outputs": [
    {
     "name": "stdout",
     "output_type": "stream",
     "text": [
      "      Processing year: 2000\n",
      "      Processing year: 2001\n",
      "         No file found for year 2001\n",
      "      Processing year: 2002\n"
     ]
    },
    {
     "data": {
      "text/html": [
       "<div>\n",
       "<style scoped>\n",
       "    .dataframe tbody tr th:only-of-type {\n",
       "        vertical-align: middle;\n",
       "    }\n",
       "\n",
       "    .dataframe tbody tr th {\n",
       "        vertical-align: top;\n",
       "    }\n",
       "\n",
       "    .dataframe thead th {\n",
       "        text-align: right;\n",
       "    }\n",
       "</style>\n",
       "<table border=\"1\" class=\"dataframe\">\n",
       "  <thead>\n",
       "    <tr style=\"text-align: right;\">\n",
       "      <th></th>\n",
       "      <th>ID</th>\n",
       "      <th>date</th>\n",
       "      <th>coca_total</th>\n",
       "    </tr>\n",
       "  </thead>\n",
       "  <tbody>\n",
       "    <tr>\n",
       "      <th>0</th>\n",
       "      <td>5004</td>\n",
       "      <td>2000-01-02</td>\n",
       "      <td>6.519325e+07</td>\n",
       "    </tr>\n",
       "    <tr>\n",
       "      <th>1</th>\n",
       "      <td>5004</td>\n",
       "      <td>2000-01-09</td>\n",
       "      <td>6.519325e+07</td>\n",
       "    </tr>\n",
       "    <tr>\n",
       "      <th>2</th>\n",
       "      <td>5004</td>\n",
       "      <td>2000-01-16</td>\n",
       "      <td>6.519325e+07</td>\n",
       "    </tr>\n",
       "    <tr>\n",
       "      <th>3</th>\n",
       "      <td>5004</td>\n",
       "      <td>2000-01-23</td>\n",
       "      <td>6.519325e+07</td>\n",
       "    </tr>\n",
       "    <tr>\n",
       "      <th>4</th>\n",
       "      <td>5004</td>\n",
       "      <td>2000-01-30</td>\n",
       "      <td>6.519325e+07</td>\n",
       "    </tr>\n",
       "    <tr>\n",
       "      <th>...</th>\n",
       "      <td>...</td>\n",
       "      <td>...</td>\n",
       "      <td>...</td>\n",
       "    </tr>\n",
       "    <tr>\n",
       "      <th>28150</th>\n",
       "      <td>99773</td>\n",
       "      <td>2002-12-01</td>\n",
       "      <td>2.863384e+11</td>\n",
       "    </tr>\n",
       "    <tr>\n",
       "      <th>28151</th>\n",
       "      <td>99773</td>\n",
       "      <td>2002-12-08</td>\n",
       "      <td>2.863384e+11</td>\n",
       "    </tr>\n",
       "    <tr>\n",
       "      <th>28152</th>\n",
       "      <td>99773</td>\n",
       "      <td>2002-12-15</td>\n",
       "      <td>2.863384e+11</td>\n",
       "    </tr>\n",
       "    <tr>\n",
       "      <th>28153</th>\n",
       "      <td>99773</td>\n",
       "      <td>2002-12-22</td>\n",
       "      <td>2.863384e+11</td>\n",
       "    </tr>\n",
       "    <tr>\n",
       "      <th>28154</th>\n",
       "      <td>99773</td>\n",
       "      <td>2002-12-29</td>\n",
       "      <td>2.863384e+11</td>\n",
       "    </tr>\n",
       "  </tbody>\n",
       "</table>\n",
       "<p>28155 rows × 3 columns</p>\n",
       "</div>"
      ],
      "text/plain": [
       "          ID       date    coca_total\n",
       "0       5004 2000-01-02  6.519325e+07\n",
       "1       5004 2000-01-09  6.519325e+07\n",
       "2       5004 2000-01-16  6.519325e+07\n",
       "3       5004 2000-01-23  6.519325e+07\n",
       "4       5004 2000-01-30  6.519325e+07\n",
       "...      ...        ...           ...\n",
       "28150  99773 2002-12-01  2.863384e+11\n",
       "28151  99773 2002-12-08  2.863384e+11\n",
       "28152  99773 2002-12-15  2.863384e+11\n",
       "28153  99773 2002-12-22  2.863384e+11\n",
       "28154  99773 2002-12-29  2.863384e+11\n",
       "\n",
       "[28155 rows x 3 columns]"
      ]
     },
     "execution_count": 5,
     "metadata": {},
     "output_type": "execute_result"
    }
   ],
   "source": [
    "df = ds.createData(df_geo, WEEK)\n",
    "df"
   ]
  },
  {
   "cell_type": "code",
   "execution_count": null,
   "metadata": {},
   "outputs": [],
   "source": []
  }
 ],
 "metadata": {
  "interpreter": {
   "hash": "97a62edebe0a5c6a538f0e0d3fc8198b7b1a1e86f6fad11ae165ad7e1575e6d6"
  },
  "kernelspec": {
   "display_name": "Python 3.8.10 64-bit ('env': venv)",
   "language": "python",
   "name": "python3"
  },
  "language_info": {
   "codemirror_mode": {
    "name": "ipython",
    "version": 3
   },
   "file_extension": ".py",
   "mimetype": "text/x-python",
   "name": "python",
   "nbconvert_exporter": "python",
   "pygments_lexer": "ipython3",
   "version": "3.8.10"
  },
  "orig_nbformat": 4
 },
 "nbformat": 4,
 "nbformat_minor": 2
}
