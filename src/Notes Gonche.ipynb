{
 "cells": [
  {
   "cell_type": "markdown",
   "metadata": {},
   "source": [
    "# Notes"
   ]
  },
  {
   "cell_type": "code",
   "execution_count": null,
   "metadata": {},
   "outputs": [],
   "source": []
  },
  {
   "cell_type": "code",
   "execution_count": 54,
   "metadata": {},
   "outputs": [],
   "source": [
    "import pandas as pd\n",
    "import geopandas as geo\n",
    "import numpy as np\n",
    "\n",
    "manipulation_geometry = 'EPSG:3857'\n",
    "plot_geometry = 'WGS84'"
   ]
  },
  {
   "cell_type": "code",
   "execution_count": 24,
   "metadata": {},
   "outputs": [],
   "source": [
    "folder = '/home/minigonche/Dropbox/Projects/malaria_mining/data/pipeline_data/raw/geo/countries/'\n",
    "col = geo.read_file(folder + 'colombia/colombia.shp')\n",
    "ecu = geo.read_file(folder + 'ecuador/ecuador.shp')\n",
    "ven = geo.read_file(folder + 'venezuela/venezuela.shp')\n",
    "pan = geo.read_file(folder + 'panama/panama.shp')\n",
    "per = geo.read_file(folder + 'peru/peru.shp')\n",
    "bra = geo.read_file(folder + 'brasil/brasil.shp')\n",
    "\n",
    "other = [ecu,ven,pan, per, bra]\n",
    "other_names = ['Ecuador', 'Venezuela', 'Panama', 'Peru', 'Brazil']\n",
    "\n",
    "\n",
    "buffer = 25 # Km\n",
    "manipulation_geoemtry = 'EPSG:3395'\n",
    "plot_geoemtry = 'WGS84'\n"
   ]
  },
  {
   "cell_type": "code",
   "execution_count": 29,
   "metadata": {},
   "outputs": [
    {
     "data": {
      "text/html": [
       "<div>\n",
       "<style scoped>\n",
       "    .dataframe tbody tr th:only-of-type {\n",
       "        vertical-align: middle;\n",
       "    }\n",
       "\n",
       "    .dataframe tbody tr th {\n",
       "        vertical-align: top;\n",
       "    }\n",
       "\n",
       "    .dataframe thead th {\n",
       "        text-align: right;\n",
       "    }\n",
       "</style>\n",
       "<table border=\"1\" class=\"dataframe\">\n",
       "  <thead>\n",
       "    <tr style=\"text-align: right;\">\n",
       "      <th></th>\n",
       "      <th>frontera</th>\n",
       "      <th>geometry</th>\n",
       "    </tr>\n",
       "  </thead>\n",
       "  <tbody>\n",
       "    <tr>\n",
       "      <th>0</th>\n",
       "      <td>Ecuador</td>\n",
       "      <td>MULTIPOLYGON (((-75.46894 -0.31011, -75.47533 ...</td>\n",
       "    </tr>\n",
       "    <tr>\n",
       "      <th>1</th>\n",
       "      <td>Venezuela</td>\n",
       "      <td>MULTIPOLYGON (((-71.91876 11.27500, -71.92148 ...</td>\n",
       "    </tr>\n",
       "    <tr>\n",
       "      <th>2</th>\n",
       "      <td>Panama</td>\n",
       "      <td>MULTIPOLYGON (((-78.04859 7.43029, -78.04776 7...</td>\n",
       "    </tr>\n",
       "    <tr>\n",
       "      <th>3</th>\n",
       "      <td>Peru</td>\n",
       "      <td>POLYGON ((-70.18898 -4.32109, -70.19528 -4.311...</td>\n",
       "    </tr>\n",
       "    <tr>\n",
       "      <th>4</th>\n",
       "      <td>Brazil</td>\n",
       "      <td>MULTIPOLYGON (((-66.67052 1.04202, -66.68646 1...</td>\n",
       "    </tr>\n",
       "  </tbody>\n",
       "</table>\n",
       "</div>"
      ],
      "text/plain": [
       "    frontera                                           geometry\n",
       "0    Ecuador  MULTIPOLYGON (((-75.46894 -0.31011, -75.47533 ...\n",
       "1  Venezuela  MULTIPOLYGON (((-71.91876 11.27500, -71.92148 ...\n",
       "2     Panama  MULTIPOLYGON (((-78.04859 7.43029, -78.04776 7...\n",
       "3       Peru  POLYGON ((-70.18898 -4.32109, -70.19528 -4.311...\n",
       "4     Brazil  MULTIPOLYGON (((-66.67052 1.04202, -66.68646 1..."
      ]
     },
     "execution_count": 29,
     "metadata": {},
     "output_type": "execute_result"
    }
   ],
   "source": [
    "\n",
    "values = []\n",
    "geometries = []\n",
    "for i in range(len(other)):\n",
    "    o = other[i]\n",
    "    new_geo = col.geometry.to_crs(manipulation_geoemtry).buffer(buffer*1000).intersection(o.geometry.to_crs(manipulation_geoemtry)).to_crs(plot_geoemtry).values[0]\n",
    "    values.append({'frontera': other_names[i]})\n",
    "    geometries.append(new_geo)\n",
    "    \n",
    "\n",
    "fronteras = geo.GeoDataFrame(values, geometry=geometries, crs=plot_geoemtry)\n",
    "fronteras\n"
   ]
  },
  {
   "cell_type": "code",
   "execution_count": 36,
   "metadata": {},
   "outputs": [
    {
     "data": {
      "text/plain": [
       "<AxesSubplot:>"
      ]
     },
     "execution_count": 36,
     "metadata": {},
     "output_type": "execute_result"
    },
    {
     "data": {
      "image/png": "[encoded data removed]",
      "text/plain": [
       "<Figure size 432x288 with 1 Axes>"
      ]
     },
     "metadata": {
      "needs_background": "light"
     },
     "output_type": "display_data"
    }
   ],
   "source": [
    "fronteras['id'] = range(fronteras.shape[0])\n",
    "fronteras.plot(column = 'frontera', legend = True)"
   ]
  },
  {
   "cell_type": "code",
   "execution_count": 35,
   "metadata": {},
   "outputs": [],
   "source": [
    "fronteras.to_file('/home/minigonche/Dropbox/Projects/malaria_mining/data/pipeline_data/raw/geo/frontiers/frontiers.shp', index = False)"
   ]
  },
  {
   "cell_type": "code",
   "execution_count": 60,
   "metadata": {},
   "outputs": [
    {
     "data": {
      "text/html": [
       "<div>\n",
       "<style scoped>\n",
       "    .dataframe tbody tr th:only-of-type {\n",
       "        vertical-align: middle;\n",
       "    }\n",
       "\n",
       "    .dataframe tbody tr th {\n",
       "        vertical-align: top;\n",
       "    }\n",
       "\n",
       "    .dataframe thead th {\n",
       "        text-align: right;\n",
       "    }\n",
       "</style>\n",
       "<table border=\"1\" class=\"dataframe\">\n",
       "  <thead>\n",
       "    <tr style=\"text-align: right;\">\n",
       "      <th></th>\n",
       "      <th>geometry</th>\n",
       "    </tr>\n",
       "    <tr>\n",
       "      <th>NOMBRE_GEO</th>\n",
       "      <th></th>\n",
       "    </tr>\n",
       "  </thead>\n",
       "  <tbody>\n",
       "    <tr>\n",
       "      <th>&lt;NULL&gt;</th>\n",
       "      <td>MULTILINESTRING ((-77.96686 2.42443, -77.96692...</td>\n",
       "    </tr>\n",
       "    <tr>\n",
       "      <th>ANTIGUO CAUCE RÍO NECHÍ</th>\n",
       "      <td>MULTILINESTRING ((-74.80263 7.61373, -74.80265...</td>\n",
       "    </tr>\n",
       "    <tr>\n",
       "      <th>ARROY JIPUMAHANA</th>\n",
       "      <td>MULTILINESTRING ((-71.64509 12.27420, -71.6450...</td>\n",
       "    </tr>\n",
       "    <tr>\n",
       "      <th>ARROYO  ARIATU</th>\n",
       "      <td>MULTILINESTRING ((-71.71448 12.17697, -71.7142...</td>\n",
       "    </tr>\n",
       "    <tr>\n",
       "      <th>ARROYO  CAYUCHAIN</th>\n",
       "      <td>MULTILINESTRING ((-71.87161 11.83185, -71.8714...</td>\n",
       "    </tr>\n",
       "    <tr>\n",
       "      <th>...</th>\n",
       "      <td>...</td>\n",
       "    </tr>\n",
       "    <tr>\n",
       "      <th>RÍO ZULIA</th>\n",
       "      <td>MULTILINESTRING ((-72.62644 7.85872, -72.62639...</td>\n",
       "    </tr>\n",
       "    <tr>\n",
       "      <th>RÍO ZUNGO</th>\n",
       "      <td>MULTILINESTRING ((-76.75290 7.87929, -76.75295...</td>\n",
       "    </tr>\n",
       "    <tr>\n",
       "      <th>RÍO ÑAMBÍ</th>\n",
       "      <td>MULTILINESTRING ((-78.03249 1.39540, -78.03249...</td>\n",
       "    </tr>\n",
       "    <tr>\n",
       "      <th>Río Vides</th>\n",
       "      <td>MULTILINESTRING ((-76.69848 0.74490, -76.69817...</td>\n",
       "    </tr>\n",
       "    <tr>\n",
       "      <th>SAN JUAN</th>\n",
       "      <td>MULTILINESTRING ((-77.29185 5.26645, -77.29182...</td>\n",
       "    </tr>\n",
       "  </tbody>\n",
       "</table>\n",
       "<p>1934 rows × 1 columns</p>\n",
       "</div>"
      ],
      "text/plain": [
       "                                                                  geometry\n",
       "NOMBRE_GEO                                                                \n",
       "<NULL>                   MULTILINESTRING ((-77.96686 2.42443, -77.96692...\n",
       "ANTIGUO CAUCE RÍO NECHÍ  MULTILINESTRING ((-74.80263 7.61373, -74.80265...\n",
       "ARROY JIPUMAHANA         MULTILINESTRING ((-71.64509 12.27420, -71.6450...\n",
       "ARROYO  ARIATU           MULTILINESTRING ((-71.71448 12.17697, -71.7142...\n",
       "ARROYO  CAYUCHAIN        MULTILINESTRING ((-71.87161 11.83185, -71.8714...\n",
       "...                                                                    ...\n",
       "RÍO ZULIA                MULTILINESTRING ((-72.62644 7.85872, -72.62639...\n",
       "RÍO ZUNGO                MULTILINESTRING ((-76.75290 7.87929, -76.75295...\n",
       "RÍO ÑAMBÍ                MULTILINESTRING ((-78.03249 1.39540, -78.03249...\n",
       "Río Vides                MULTILINESTRING ((-76.69848 0.74490, -76.69817...\n",
       "SAN JUAN                 MULTILINESTRING ((-77.29185 5.26645, -77.29182...\n",
       "\n",
       "[1934 rows x 1 columns]"
      ]
     },
     "execution_count": 60,
     "metadata": {},
     "output_type": "execute_result"
    }
   ],
   "source": [
    "rivers = geo.read_file('/home/minigonche/Dropbox/Projects/malaria_mining/data/pipeline_data/raw/geo/river_lines/river_lines.shp')\n",
    "rivers = rivers[['NOMBRE_GEO','geometry']].dissolve(by = 'NOMBRE_GEO', aggfunc='sum')\n",
    "rivers"
   ]
  },
  {
   "cell_type": "code",
   "execution_count": 61,
   "metadata": {},
   "outputs": [
    {
     "data": {
      "text/html": [
       "<div>\n",
       "<style scoped>\n",
       "    .dataframe tbody tr th:only-of-type {\n",
       "        vertical-align: middle;\n",
       "    }\n",
       "\n",
       "    .dataframe tbody tr th {\n",
       "        vertical-align: top;\n",
       "    }\n",
       "\n",
       "    .dataframe thead th {\n",
       "        text-align: right;\n",
       "    }\n",
       "</style>\n",
       "<table border=\"1\" class=\"dataframe\">\n",
       "  <thead>\n",
       "    <tr style=\"text-align: right;\">\n",
       "      <th></th>\n",
       "      <th>NOMBRE_GEO</th>\n",
       "      <th>geometry</th>\n",
       "      <th>length</th>\n",
       "    </tr>\n",
       "  </thead>\n",
       "  <tbody>\n",
       "    <tr>\n",
       "      <th>0</th>\n",
       "      <td>RÍO NEGRO</td>\n",
       "      <td>MULTILINESTRING ((-76.01290 2.54306, -76.01272...</td>\n",
       "      <td>1276.289905</td>\n",
       "    </tr>\n",
       "    <tr>\n",
       "      <th>1</th>\n",
       "      <td>RÍO MAGDALENA</td>\n",
       "      <td>MULTILINESTRING ((-76.19891 1.86418, -76.19912...</td>\n",
       "      <td>1073.933830</td>\n",
       "    </tr>\n",
       "    <tr>\n",
       "      <th>2</th>\n",
       "      <td>RÍO SAN FRANCISCO</td>\n",
       "      <td>MULTILINESTRING ((-76.45691 2.38517, -76.45709...</td>\n",
       "      <td>1070.252064</td>\n",
       "    </tr>\n",
       "    <tr>\n",
       "      <th>3</th>\n",
       "      <td>RÍO SAN JUAN</td>\n",
       "      <td>MULTILINESTRING ((-76.59013 0.61948, -76.59047...</td>\n",
       "      <td>1031.626357</td>\n",
       "    </tr>\n",
       "    <tr>\n",
       "      <th>4</th>\n",
       "      <td>RÍO AGUA CLARA</td>\n",
       "      <td>MULTILINESTRING ((-77.82553 1.66660, -77.82490...</td>\n",
       "      <td>1011.960731</td>\n",
       "    </tr>\n",
       "    <tr>\n",
       "      <th>...</th>\n",
       "      <td>...</td>\n",
       "      <td>...</td>\n",
       "      <td>...</td>\n",
       "    </tr>\n",
       "    <tr>\n",
       "      <th>1929</th>\n",
       "      <td>RÍO TOLOTA</td>\n",
       "      <td>LINESTRING (-73.37041 6.11405, -73.37046 6.114...</td>\n",
       "      <td>0.364620</td>\n",
       "    </tr>\n",
       "    <tr>\n",
       "      <th>1930</th>\n",
       "      <td>BRAZO PALOMINO</td>\n",
       "      <td>MULTILINESTRING ((-78.03509 2.42439, -78.03513...</td>\n",
       "      <td>0.359070</td>\n",
       "    </tr>\n",
       "    <tr>\n",
       "      <th>1931</th>\n",
       "      <td>ESTERO HEREDA</td>\n",
       "      <td>MULTILINESTRING ((-78.31501 2.44650, -78.31506...</td>\n",
       "      <td>0.279873</td>\n",
       "    </tr>\n",
       "    <tr>\n",
       "      <th>1932</th>\n",
       "      <td>RIO SENCELLA</td>\n",
       "      <td>MULTILINESTRING ((-75.15545 0.40981, -75.15553...</td>\n",
       "      <td>0.193414</td>\n",
       "    </tr>\n",
       "    <tr>\n",
       "      <th>1933</th>\n",
       "      <td>QUEBRADA OBREGÓN</td>\n",
       "      <td>MULTILINESTRING ((-77.64963 2.42606, -77.64981...</td>\n",
       "      <td>0.121562</td>\n",
       "    </tr>\n",
       "  </tbody>\n",
       "</table>\n",
       "<p>1934 rows × 3 columns</p>\n",
       "</div>"
      ],
      "text/plain": [
       "             NOMBRE_GEO                                           geometry  \\\n",
       "0             RÍO NEGRO  MULTILINESTRING ((-76.01290 2.54306, -76.01272...   \n",
       "1         RÍO MAGDALENA  MULTILINESTRING ((-76.19891 1.86418, -76.19912...   \n",
       "2     RÍO SAN FRANCISCO  MULTILINESTRING ((-76.45691 2.38517, -76.45709...   \n",
       "3          RÍO SAN JUAN  MULTILINESTRING ((-76.59013 0.61948, -76.59047...   \n",
       "4        RÍO AGUA CLARA  MULTILINESTRING ((-77.82553 1.66660, -77.82490...   \n",
       "...                 ...                                                ...   \n",
       "1929         RÍO TOLOTA  LINESTRING (-73.37041 6.11405, -73.37046 6.114...   \n",
       "1930     BRAZO PALOMINO  MULTILINESTRING ((-78.03509 2.42439, -78.03513...   \n",
       "1931      ESTERO HEREDA  MULTILINESTRING ((-78.31501 2.44650, -78.31506...   \n",
       "1932       RIO SENCELLA  MULTILINESTRING ((-75.15545 0.40981, -75.15553...   \n",
       "1933   QUEBRADA OBREGÓN  MULTILINESTRING ((-77.64963 2.42606, -77.64981...   \n",
       "\n",
       "           length  \n",
       "0     1276.289905  \n",
       "1     1073.933830  \n",
       "2     1070.252064  \n",
       "3     1031.626357  \n",
       "4     1011.960731  \n",
       "...           ...  \n",
       "1929     0.364620  \n",
       "1930     0.359070  \n",
       "1931     0.279873  \n",
       "1932     0.193414  \n",
       "1933     0.121562  \n",
       "\n",
       "[1934 rows x 3 columns]"
      ]
     },
     "execution_count": 61,
     "metadata": {},
     "output_type": "execute_result"
    }
   ],
   "source": [
    "bounds = rivers.geometry.to_crs(manipulation_geometry).bounds\n",
    "rivers['length'] = np.sqrt((bounds.minx - bounds.maxx)**2 + (bounds.miny - bounds.maxy)**2)/1000\n",
    "rivers = rivers.sort_values('length', ascending = False).reset_index()\n",
    "rivers"
   ]
  },
  {
   "cell_type": "code",
   "execution_count": 69,
   "metadata": {},
   "outputs": [
    {
     "data": {
      "text/html": [
       "<div>\n",
       "<style scoped>\n",
       "    .dataframe tbody tr th:only-of-type {\n",
       "        vertical-align: middle;\n",
       "    }\n",
       "\n",
       "    .dataframe tbody tr th {\n",
       "        vertical-align: top;\n",
       "    }\n",
       "\n",
       "    .dataframe thead th {\n",
       "        text-align: right;\n",
       "    }\n",
       "</style>\n",
       "<table border=\"1\" class=\"dataframe\">\n",
       "  <thead>\n",
       "    <tr style=\"text-align: right;\">\n",
       "      <th></th>\n",
       "      <th>NOMBRE_GEO</th>\n",
       "      <th>geometry</th>\n",
       "      <th>length</th>\n",
       "    </tr>\n",
       "  </thead>\n",
       "  <tbody>\n",
       "    <tr>\n",
       "      <th>0</th>\n",
       "      <td>RÍO NEGRO</td>\n",
       "      <td>MULTILINESTRING ((-76.01290 2.54306, -76.01272...</td>\n",
       "      <td>1276.289905</td>\n",
       "    </tr>\n",
       "    <tr>\n",
       "      <th>1</th>\n",
       "      <td>RÍO MAGDALENA</td>\n",
       "      <td>MULTILINESTRING ((-76.19891 1.86418, -76.19912...</td>\n",
       "      <td>1073.933830</td>\n",
       "    </tr>\n",
       "    <tr>\n",
       "      <th>2</th>\n",
       "      <td>RÍO SAN FRANCISCO</td>\n",
       "      <td>MULTILINESTRING ((-76.45691 2.38517, -76.45709...</td>\n",
       "      <td>1070.252064</td>\n",
       "    </tr>\n",
       "    <tr>\n",
       "      <th>3</th>\n",
       "      <td>RÍO SAN JUAN</td>\n",
       "      <td>MULTILINESTRING ((-76.59013 0.61948, -76.59047...</td>\n",
       "      <td>1031.626357</td>\n",
       "    </tr>\n",
       "    <tr>\n",
       "      <th>4</th>\n",
       "      <td>RÍO AGUA CLARA</td>\n",
       "      <td>MULTILINESTRING ((-77.82553 1.66660, -77.82490...</td>\n",
       "      <td>1011.960731</td>\n",
       "    </tr>\n",
       "    <tr>\n",
       "      <th>...</th>\n",
       "      <td>...</td>\n",
       "      <td>...</td>\n",
       "      <td>...</td>\n",
       "    </tr>\n",
       "    <tr>\n",
       "      <th>1869</th>\n",
       "      <td>RÍO PALOMA</td>\n",
       "      <td>MULTILINESTRING ((-75.09110 5.68484, -75.09125...</td>\n",
       "      <td>0.969546</td>\n",
       "    </tr>\n",
       "    <tr>\n",
       "      <th>1891</th>\n",
       "      <td>RÍO APARTADO</td>\n",
       "      <td>MULTILINESTRING ((-77.02055 5.40393, -77.02064...</td>\n",
       "      <td>0.846318</td>\n",
       "    </tr>\n",
       "    <tr>\n",
       "      <th>1894</th>\n",
       "      <td>RÍO TOY</td>\n",
       "      <td>MULTILINESTRING ((-75.26994 3.95226, -75.26994...</td>\n",
       "      <td>0.813432</td>\n",
       "    </tr>\n",
       "    <tr>\n",
       "      <th>1925</th>\n",
       "      <td>RÍO LAS PIEDRAS</td>\n",
       "      <td>MULTILINESTRING ((-76.83146 2.36926, -76.83154...</td>\n",
       "      <td>0.405324</td>\n",
       "    </tr>\n",
       "    <tr>\n",
       "      <th>1929</th>\n",
       "      <td>RÍO TOLOTA</td>\n",
       "      <td>LINESTRING (-73.37041 6.11405, -73.37046 6.114...</td>\n",
       "      <td>0.364620</td>\n",
       "    </tr>\n",
       "  </tbody>\n",
       "</table>\n",
       "<p>684 rows × 3 columns</p>\n",
       "</div>"
      ],
      "text/plain": [
       "             NOMBRE_GEO                                           geometry  \\\n",
       "0             RÍO NEGRO  MULTILINESTRING ((-76.01290 2.54306, -76.01272...   \n",
       "1         RÍO MAGDALENA  MULTILINESTRING ((-76.19891 1.86418, -76.19912...   \n",
       "2     RÍO SAN FRANCISCO  MULTILINESTRING ((-76.45691 2.38517, -76.45709...   \n",
       "3          RÍO SAN JUAN  MULTILINESTRING ((-76.59013 0.61948, -76.59047...   \n",
       "4        RÍO AGUA CLARA  MULTILINESTRING ((-77.82553 1.66660, -77.82490...   \n",
       "...                 ...                                                ...   \n",
       "1869         RÍO PALOMA  MULTILINESTRING ((-75.09110 5.68484, -75.09125...   \n",
       "1891       RÍO APARTADO  MULTILINESTRING ((-77.02055 5.40393, -77.02064...   \n",
       "1894            RÍO TOY  MULTILINESTRING ((-75.26994 3.95226, -75.26994...   \n",
       "1925    RÍO LAS PIEDRAS  MULTILINESTRING ((-76.83146 2.36926, -76.83154...   \n",
       "1929         RÍO TOLOTA  LINESTRING (-73.37041 6.11405, -73.37046 6.114...   \n",
       "\n",
       "           length  \n",
       "0     1276.289905  \n",
       "1     1073.933830  \n",
       "2     1070.252064  \n",
       "3     1031.626357  \n",
       "4     1011.960731  \n",
       "...           ...  \n",
       "1869     0.969546  \n",
       "1891     0.846318  \n",
       "1894     0.813432  \n",
       "1925     0.405324  \n",
       "1929     0.364620  \n",
       "\n",
       "[684 rows x 3 columns]"
      ]
     },
     "execution_count": 69,
     "metadata": {},
     "output_type": "execute_result"
    }
   ],
   "source": [
    "rivers_clean = rivers[rivers.NOMBRE_GEO.apply(lambda s: 'RÍO' in s)]\n",
    "rivers_clean"
   ]
  },
  {
   "cell_type": "code",
   "execution_count": null,
   "metadata": {},
   "outputs": [],
   "source": [
    "rivers_clean.rename(columns = '')"
   ]
  },
  {
   "cell_type": "code",
   "execution_count": 47,
   "metadata": {},
   "outputs": [
    {
     "data": {
      "text/plain": [
       "<AxesSubplot:>"
      ]
     },
     "execution_count": 47,
     "metadata": {},
     "output_type": "execute_result"
    },
    {
     "data": {
      "image/png": "[encoded data removed]",
      "text/plain": [
       "<Figure size 432x288 with 1 Axes>"
      ]
     },
     "metadata": {
      "needs_background": "light"
     },
     "output_type": "display_data"
    }
   ],
   "source": [
    "rivers[rivers.NOMBRE_GEO.apply(lambda s: 'QUEBRADA' in s)].plot()"
   ]
  },
  {
   "cell_type": "code",
   "execution_count": 49,
   "metadata": {},
   "outputs": [
    {
     "data": {
      "text/html": [
       "<div>\n",
       "<style scoped>\n",
       "    .dataframe tbody tr th:only-of-type {\n",
       "        vertical-align: middle;\n",
       "    }\n",
       "\n",
       "    .dataframe tbody tr th {\n",
       "        vertical-align: top;\n",
       "    }\n",
       "\n",
       "    .dataframe thead th {\n",
       "        text-align: right;\n",
       "    }\n",
       "</style>\n",
       "<table border=\"1\" class=\"dataframe\">\n",
       "  <thead>\n",
       "    <tr style=\"text-align: right;\">\n",
       "      <th></th>\n",
       "      <th>NOMBRE_GEO_left</th>\n",
       "      <th>geometry</th>\n",
       "      <th>length_left</th>\n",
       "      <th>index_right</th>\n",
       "      <th>NOMBRE_GEO_right</th>\n",
       "      <th>length_right</th>\n",
       "    </tr>\n",
       "  </thead>\n",
       "  <tbody>\n",
       "    <tr>\n",
       "      <th>338</th>\n",
       "      <td>RIO SEQUIHONDA</td>\n",
       "      <td>MULTILINESTRING ((-78.05092 2.43203, -78.05130...</td>\n",
       "      <td>28.816120</td>\n",
       "      <td>1833</td>\n",
       "      <td>QUEBRADA COROCITO</td>\n",
       "      <td>1.141714</td>\n",
       "    </tr>\n",
       "    <tr>\n",
       "      <th>1141</th>\n",
       "      <td>BRAZO EL SECADERO</td>\n",
       "      <td>MULTILINESTRING ((-78.04099 2.45752, -78.04116...</td>\n",
       "      <td>4.725087</td>\n",
       "      <td>1833</td>\n",
       "      <td>QUEBRADA COROCITO</td>\n",
       "      <td>1.141714</td>\n",
       "    </tr>\n",
       "    <tr>\n",
       "      <th>1833</th>\n",
       "      <td>QUEBRADA COROCITO</td>\n",
       "      <td>MULTILINESTRING ((-78.04099 2.45752, -78.04116...</td>\n",
       "      <td>1.141714</td>\n",
       "      <td>1833</td>\n",
       "      <td>QUEBRADA COROCITO</td>\n",
       "      <td>1.141714</td>\n",
       "    </tr>\n",
       "  </tbody>\n",
       "</table>\n",
       "</div>"
      ],
      "text/plain": [
       "        NOMBRE_GEO_left                                           geometry  \\\n",
       "338      RIO SEQUIHONDA  MULTILINESTRING ((-78.05092 2.43203, -78.05130...   \n",
       "1141  BRAZO EL SECADERO  MULTILINESTRING ((-78.04099 2.45752, -78.04116...   \n",
       "1833  QUEBRADA COROCITO  MULTILINESTRING ((-78.04099 2.45752, -78.04116...   \n",
       "\n",
       "      length_left  index_right   NOMBRE_GEO_right  length_right  \n",
       "338     28.816120         1833  QUEBRADA COROCITO      1.141714  \n",
       "1141     4.725087         1833  QUEBRADA COROCITO      1.141714  \n",
       "1833     1.141714         1833  QUEBRADA COROCITO      1.141714  "
      ]
     },
     "execution_count": 49,
     "metadata": {},
     "output_type": "execute_result"
    }
   ],
   "source": [
    "geo.sjoin(rivers, rivers.iloc[[1833]])\n",
    "\n"
   ]
  },
  {
   "cell_type": "code",
   "execution_count": 11,
   "metadata": {},
   "outputs": [
    {
     "data": {
      "text/plain": [
       "<AxesSubplot:>"
      ]
     },
     "execution_count": 11,
     "metadata": {},
     "output_type": "execute_result"
    },
    {
     "data": {
      "image/png": "[encoded data removed]",
      "text/plain": [
       "<Figure size 432x288 with 1 Axes>"
      ]
     },
     "metadata": {
      "needs_background": "light"
     },
     "output_type": "display_data"
    }
   ],
   "source": []
  },
  {
   "cell_type": "code",
   "execution_count": 8,
   "metadata": {},
   "outputs": [
    {
     "data": {
      "text/plain": [
       "<AxesSubplot:>"
      ]
     },
     "execution_count": 8,
     "metadata": {},
     "output_type": "execute_result"
    },
    {
     "data": {
      "image/png": "[encoded data removed]",
      "text/plain": [
       "<Figure size 432x288 with 1 Axes>"
      ]
     },
     "metadata": {
      "needs_background": "light"
     },
     "output_type": "display_data"
    }
   ],
   "source": [
    "mag.head(1).plot()"
   ]
  },
  {
   "cell_type": "code",
   "execution_count": null,
   "metadata": {},
   "outputs": [],
   "source": []
  }
 ],
 "metadata": {
  "interpreter": {
   "hash": "97a62edebe0a5c6a538f0e0d3fc8198b7b1a1e86f6fad11ae165ad7e1575e6d6"
  },
  "kernelspec": {
   "display_name": "malaria_pl",
   "language": "python",
   "name": "python3"
  },
  "language_info": {
   "codemirror_mode": {
    "name": "ipython",
    "version": 3
   },
   "file_extension": ".py",
   "mimetype": "text/x-python",
   "name": "python",
   "nbconvert_exporter": "python",
   "pygments_lexer": "ipython3",
   "version": "3.8.10"
  },
  "orig_nbformat": 4
 },
 "nbformat": 4,
 "nbformat_minor": 2
}
