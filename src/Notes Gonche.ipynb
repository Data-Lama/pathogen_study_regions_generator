{
 "cells": [
  {
   "cell_type": "markdown",
   "metadata": {},
   "source": [
    "# Notes"
   ]
  },
  {
   "cell_type": "code",
   "execution_count": 17,
   "metadata": {},
   "outputs": [],
   "source": [
    "import pandas as pd\n",
    "import geopandas as geo"
   ]
  },
  {
   "cell_type": "code",
   "execution_count": 24,
   "metadata": {},
   "outputs": [],
   "source": [
    "folder = '/home/minigonche/Dropbox/Projects/malaria_mining/data/pipeline_data/raw/geo/countries/'\n",
    "col = geo.read_file(folder + 'colombia/colombia.shp')\n",
    "ecu = geo.read_file(folder + 'ecuador/ecuador.shp')\n",
    "ven = geo.read_file(folder + 'venezuela/venezuela.shp')\n",
    "pan = geo.read_file(folder + 'panama/panama.shp')\n",
    "per = geo.read_file(folder + 'peru/peru.shp')\n",
    "bra = geo.read_file(folder + 'brasil/brasil.shp')\n",
    "\n",
    "other = [ecu,ven,pan, per, bra]\n",
    "other_names = ['Ecuador', 'Venezuela', 'Panama', 'Peru', 'Brazil']\n",
    "\n",
    "\n",
    "buffer = 25 # Km\n",
    "manipulation_geoemtry = 'EPSG:3395'\n",
    "plot_geoemtry = 'WGS84'\n"
   ]
  },
  {
   "cell_type": "code",
   "execution_count": 29,
   "metadata": {},
   "outputs": [
    {
     "data": {
      "text/html": [
       "<div>\n",
       "<style scoped>\n",
       "    .dataframe tbody tr th:only-of-type {\n",
       "        vertical-align: middle;\n",
       "    }\n",
       "\n",
       "    .dataframe tbody tr th {\n",
       "        vertical-align: top;\n",
       "    }\n",
       "\n",
       "    .dataframe thead th {\n",
       "        text-align: right;\n",
       "    }\n",
       "</style>\n",
       "<table border=\"1\" class=\"dataframe\">\n",
       "  <thead>\n",
       "    <tr style=\"text-align: right;\">\n",
       "      <th></th>\n",
       "      <th>frontera</th>\n",
       "      <th>geometry</th>\n",
       "    </tr>\n",
       "  </thead>\n",
       "  <tbody>\n",
       "    <tr>\n",
       "      <th>0</th>\n",
       "      <td>Ecuador</td>\n",
       "      <td>MULTIPOLYGON (((-75.46894 -0.31011, -75.47533 ...</td>\n",
       "    </tr>\n",
       "    <tr>\n",
       "      <th>1</th>\n",
       "      <td>Venezuela</td>\n",
       "      <td>MULTIPOLYGON (((-71.91876 11.27500, -71.92148 ...</td>\n",
       "    </tr>\n",
       "    <tr>\n",
       "      <th>2</th>\n",
       "      <td>Panama</td>\n",
       "      <td>MULTIPOLYGON (((-78.04859 7.43029, -78.04776 7...</td>\n",
       "    </tr>\n",
       "    <tr>\n",
       "      <th>3</th>\n",
       "      <td>Peru</td>\n",
       "      <td>POLYGON ((-70.18898 -4.32109, -70.19528 -4.311...</td>\n",
       "    </tr>\n",
       "    <tr>\n",
       "      <th>4</th>\n",
       "      <td>Brazil</td>\n",
       "      <td>MULTIPOLYGON (((-66.67052 1.04202, -66.68646 1...</td>\n",
       "    </tr>\n",
       "  </tbody>\n",
       "</table>\n",
       "</div>"
      ],
      "text/plain": [
       "    frontera                                           geometry\n",
       "0    Ecuador  MULTIPOLYGON (((-75.46894 -0.31011, -75.47533 ...\n",
       "1  Venezuela  MULTIPOLYGON (((-71.91876 11.27500, -71.92148 ...\n",
       "2     Panama  MULTIPOLYGON (((-78.04859 7.43029, -78.04776 7...\n",
       "3       Peru  POLYGON ((-70.18898 -4.32109, -70.19528 -4.311...\n",
       "4     Brazil  MULTIPOLYGON (((-66.67052 1.04202, -66.68646 1..."
      ]
     },
     "execution_count": 29,
     "metadata": {},
     "output_type": "execute_result"
    }
   ],
   "source": [
    "\n",
    "values = []\n",
    "geometries = []\n",
    "for i in range(len(other)):\n",
    "    o = other[i]\n",
    "    new_geo = col.geometry.to_crs(manipulation_geoemtry).buffer(buffer*1000).intersection(o.geometry.to_crs(manipulation_geoemtry)).to_crs(plot_geoemtry).values[0]\n",
    "    values.append({'frontera': other_names[i]})\n",
    "    geometries.append(new_geo)\n",
    "    \n",
    "\n",
    "fronteras = geo.GeoDataFrame(values, geometry=geometries, crs=plot_geoemtry)\n",
    "fronteras\n"
   ]
  },
  {
   "cell_type": "code",
   "execution_count": 34,
   "metadata": {},
   "outputs": [
    {
     "data": {
      "text/plain": [
       "<AxesSubplot:>"
      ]
     },
     "execution_count": 34,
     "metadata": {},
     "output_type": "execute_result"
    },
    {
     "data": {
      "image/png": "[encoded data removed]",
      "text/plain": [
       "<Figure size 432x288 with 1 Axes>"
      ]
     },
     "metadata": {
      "needs_background": "light"
     },
     "output_type": "display_data"
    }
   ],
   "source": [
    "fronteras['id'] = range(fronteras.shape[0])\n",
    "fronteras.plot(column = 'frontera')"
   ]
  },
  {
   "cell_type": "code",
   "execution_count": 35,
   "metadata": {},
   "outputs": [],
   "source": [
    "fronteras.to_file('/home/minigonche/Dropbox/Projects/malaria_mining/data/pipeline_data/raw/geo/frontiers/frontiers.shp', index = False)"
   ]
  },
  {
   "cell_type": "code",
   "execution_count": null,
   "metadata": {},
   "outputs": [],
   "source": []
  }
 ],
 "metadata": {
  "interpreter": {
   "hash": "97a62edebe0a5c6a538f0e0d3fc8198b7b1a1e86f6fad11ae165ad7e1575e6d6"
  },
  "kernelspec": {
   "display_name": "malaria_pl",
   "language": "python",
   "name": "python3"
  },
  "language_info": {
   "codemirror_mode": {
    "name": "ipython",
    "version": 3
   },
   "file_extension": ".py",
   "mimetype": "text/x-python",
   "name": "python",
   "nbconvert_exporter": "python",
   "pygments_lexer": "ipython3",
   "version": "3.8.10"
  },
  "orig_nbformat": 4
 },
 "nbformat": 4,
 "nbformat_minor": 2
}
