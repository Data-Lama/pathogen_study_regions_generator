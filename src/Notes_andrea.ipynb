{
 "cells": [
  {
   "cell_type": "code",
   "execution_count": null,
   "metadata": {},
   "outputs": [],
   "source": [
    "import pandas as pd\n",
    "from constants import *\n",
    "from sklearn.cluster import KMeans\n",
    "from flows.specific.custom_flow import  CustomFlow\n",
    "import os\n",
    "from data_sources.specific.coca import Coca\n",
    "from data_sources.specific.gold_stock_price import GoldStockPrice\n",
    "from data_sources.specific.malaria_cases import Malaria\n",
    "from embedders.specific.identity_embedder import IdentityEmbbeder\n",
    "from embedders.specific.aggregation_embedder import AggregationEmbedder\n",
    "from embedders.specific.linear_regression_coefficient_embedder import LinearRegressionCoefficientEmbedder\n",
    "\n",
    "from clusterers.specific.identity_clusterer import IdentityClusterer\n",
    "from clusterers.specific.sklearn_vector_clusterer import SklearnVectorClusterer\n",
    "from clusterers.specific.quantile_clusterer import QuantileClusterer\n",
    "\n",
    "from geography.specific.colombian_municipalities import ColombianMunicipalities\n"
   ]
  },
  {
   "cell_type": "code",
   "execution_count": null,
   "metadata": {},
   "outputs": [],
   "source": [
    "fuentes_incluidas = [Coca]\n",
    "target_col = 'malaria_num_cases_total'\n",
    "periodocity = \"MONTH\"\n",
    "geo = ColombianMunicipalities()\n",
    "df_geo = geo.get_geometry()\n",
    "\n",
    "for data_source in fuentes_incluidas:\n",
    "    ds = data_source()\n",
    "    df = ds.createData(df_geo=df_geo, time_resolution=periodocity)"
   ]
  },
  {
   "cell_type": "code",
   "execution_count": null,
   "metadata": {},
   "outputs": [],
   "source": [
    "fuentes_incluidas = [Malaria]\n",
    "target_col = 'malaria_num_cases_total'\n",
    "periodocity = \"MONTH\"\n",
    "geo = ColombianMunicipalities()\n",
    "df_geo = geo.get_geometry()\n",
    "\n",
    "for data_source in fuentes_incluidas:\n",
    "    ds = data_source()\n",
    "    df = ds.createData(df_geo=df_geo, time_resolution=periodocity)"
   ]
  },
  {
   "cell_type": "code",
   "execution_count": null,
   "metadata": {},
   "outputs": [],
   "source": [
    "geo"
   ]
  },
  {
   "cell_type": "code",
   "execution_count": null,
   "metadata": {},
   "outputs": [],
   "source": [
    "print(geo.index)\n"
   ]
  },
  {
   "cell_type": "code",
   "execution_count": null,
   "metadata": {},
   "outputs": [],
   "source": []
  }
 ],
 "metadata": {
  "kernelspec": {
   "display_name": "malaria_pl",
   "language": "python",
   "name": "malaria_pl"
  },
  "language_info": {
   "codemirror_mode": {
    "name": "ipython",
    "version": 3
   },
   "file_extension": ".py",
   "mimetype": "text/x-python",
   "name": "python",
   "nbconvert_exporter": "python",
   "pygments_lexer": "ipython3",
   "version": "3.9.7"
  },
  "orig_nbformat": 4
 },
 "nbformat": 4,
 "nbformat_minor": 2
}
