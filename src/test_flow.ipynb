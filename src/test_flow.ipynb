{
 "cells": [
  {
   "cell_type": "code",
   "execution_count": null,
   "metadata": {},
   "outputs": [],
   "source": [
    "import pandas as pd\n",
    "from constants import *\n",
    "from sklearn.cluster import KMeans\n",
    "from flows.specific.custom_flow_from_shapefile import  CustomFlowFromShapefile\n",
    "import os\n",
    "from data_sources.specific.coca import Coca\n",
    "from data_sources.specific.gold_stock_price import GoldStockPrice\n",
    "from data_sources.specific.malaria_cases import Malaria\n",
    "from embedders.specific.identity_embedder import IdentityEmbbeder\n",
    "from embedders.specific.aggregation_embedder import AggregationEmbedder\n",
    "from embedders.specific.linear_regression_coefficient_embedder import LinearRegressionCoefficientEmbedder\n",
    "\n",
    "from clusterers.specific.identity_clusterer import IdentityClusterer\n",
    "from clusterers.specific.sklearn_vector_clusterer import SklearnVectorClusterer\n",
    "from clusterers.specific.quantile_clusterer import QuantileClusterer\n"
   ]
  },
  {
   "cell_type": "code",
   "execution_count": null,
   "metadata": {},
   "outputs": [],
   "source": [
    "fuentes_incluidas = [Malaria]\n",
    "target_col = 'malaria_num_cases_total'"
   ]
  },
  {
   "cell_type": "code",
   "execution_count": null,
   "metadata": {},
   "outputs": [],
   "source": [
    "flow = CustomFlowFromShapefile(ID = 'basic_analysis',\n",
    "                                name = \"Basic Analysis\",\n",
    "                                time_resolution = MONTH,\n",
    "                                shapefile_location = os.path.join(GEO_DATA_FOLDER,\"municipalities/municipalities.shp\"),\n",
    "                                id_column = \"muni_id\",\n",
    "                                vector_data_sources=fuentes_incluidas,\n",
    "                                matrix_data_sources=[],\n",
    "                                embedder=AggregationEmbedder(),\n",
    "                                clusterer=QuantileClusterer(ID=\"quantile\", name=\"Quantile\"))"
   ]
  },
  {
   "cell_type": "code",
   "execution_count": null,
   "metadata": {},
   "outputs": [],
   "source": [
    "flow.initial_geography = flow.get_initial_geography()\n",
    "\n",
    "# Loads Data\n",
    "# ----------------------\n",
    "flow.df_vector, flow.df_matrix = flow.loadData(flow.initial_geography)\n",
    "flow.data_loaded = True"
   ]
  },
  {
   "cell_type": "code",
   "execution_count": null,
   "metadata": {},
   "outputs": [],
   "source": [
    "flow.df_vector"
   ]
  },
  {
   "cell_type": "code",
   "execution_count": null,
   "metadata": {},
   "outputs": [],
   "source": [
    "# Embbeds Data\n",
    "# ----------------------\n",
    "flow.embeddData()\n",
    "flow.data_embedded = True\n",
    "\n",
    "flow.df_embedded_vector"
   ]
  },
  {
   "cell_type": "code",
   "execution_count": null,
   "metadata": {},
   "outputs": [],
   "source": [
    "# Clusters Data\n",
    "# ----------------------\n",
    "flow.clusterData()\n",
    "flow.data_clustered = True\n",
    "flow.clustered_ids"
   ]
  },
  {
   "cell_type": "code",
   "execution_count": null,
   "metadata": {},
   "outputs": [],
   "source": [
    "# Builds final geography\n",
    "# ----------------------\n",
    "flow.buildFinalGeography()"
   ]
  },
  {
   "cell_type": "code",
   "execution_count": null,
   "metadata": {},
   "outputs": [],
   "source": [
    "flow.final_geography"
   ]
  },
  {
   "cell_type": "code",
   "execution_count": null,
   "metadata": {},
   "outputs": [],
   "source": [
    "flow.final_geography[CLUSTER_ID] = flow.final_geography[ID].apply(lambda i : f\"Cluster {i}\")\n",
    "flow.final_geography.plot(column = CLUSTER_ID, figsize = (8,8), legend=True)"
   ]
  }
 ],
 "metadata": {
  "language_info": {
   "name": "python"
  },
  "orig_nbformat": 4
 },
 "nbformat": 4,
 "nbformat_minor": 2
}
