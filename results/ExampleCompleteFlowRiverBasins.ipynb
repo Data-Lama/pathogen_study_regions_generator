{
 "cells": [
  {
   "cell_type": "code",
   "execution_count": 1,
   "metadata": {},
   "outputs": [],
   "source": [
    "import sys\n",
    "sys.path.append('../src/')\n"
   ]
  },
  {
   "cell_type": "code",
   "execution_count": 2,
   "metadata": {},
   "outputs": [
    {
     "name": "stderr",
     "output_type": "stream",
     "text": [
      "/Users/andreaparra/Virtual-Envs/malaria_pl/lib/python3.9/site-packages/geopandas/_compat.py:111: UserWarning: The Shapely GEOS version (3.10.2-CAPI-1.16.0) is incompatible with the GEOS version PyGEOS was compiled with (3.10.1-CAPI-1.16.0). Conversions between both will be slow.\n",
      "  warnings.warn(\n"
     ]
    },
    {
     "name": "stdout",
     "output_type": "stream",
     "text": [
      "The Zen of Python, by Tim Peters\n",
      "\n",
      "Beautiful is better than ugly.\n",
      "Explicit is better than implicit.\n",
      "Simple is better than complex.\n",
      "Complex is better than complicated.\n",
      "Flat is better than nested.\n",
      "Sparse is better than dense.\n",
      "Readability counts.\n",
      "Special cases aren't special enough to break the rules.\n",
      "Although practicality beats purity.\n",
      "Errors should never pass silently.\n",
      "Unless explicitly silenced.\n",
      "In the face of ambiguity, refuse the temptation to guess.\n",
      "There should be one-- and preferably only one --obvious way to do it.\n",
      "Although that way may not be obvious at first unless you're Dutch.\n",
      "Now is better than never.\n",
      "Although never is often better than *right* now.\n",
      "If the implementation is hard to explain, it's a bad idea.\n",
      "If the implementation is easy to explain, it may be a good idea.\n",
      "Namespaces are one honking great idea -- let's do more of those!\n"
     ]
    }
   ],
   "source": [
    "%matplotlib inline\n",
    "\n",
    "# Useful imports\n",
    "import seaborn as sns\n",
    "import pandas as pd\n",
    "import matplotlib.pyplot as plt\n",
    "import numpy as np\n",
    "from constants import *\n",
    "from utils.publication_functions import beautify_data_column_name\n",
    "from sklearn.cluster import KMeans\n",
    "from flows.specific.custom_flow import CustomFlow\n",
    "\n",
    "# Data sources\n",
    "from data_sources.specific.coca import Coca\n",
    "from data_sources.specific.gold_stock_price import GoldStockPrice\n",
    "from data_sources.specific.malaria_cases import Malaria\n",
    "from data_sources.specific.mock_malaria_cases import MockMalaria\n",
    "from data_sources.specific.temperature_average import TemperatureAverage\n",
    "from data_sources.specific.temperature_max import TemperatureMax\n",
    "from data_sources.specific.temperature_min import TemperatureMin\n",
    "from data_sources.specific.temperature_average import TemperatureAverage\n",
    "from data_sources.specific.precipitation_average import PrecipitationAverage\n",
    "from data_sources.specific.precipitation_total import PrecipitationTotal\n",
    "from data_sources.specific.deforestation_average import DeforestationAverage\n",
    "from data_sources.specific.deforestation_total import DeforestationTotal\n",
    "from data_sources.specific.fb_mobility import FBMobility\n",
    "\n",
    "# Embedders\n",
    "from embedders.specific.identity_embedder import IdentityEmbbeder\n",
    "from embedders.specific.linear_regression_coefficient_embedder import LinearRegressionCoefficientEmbedder\n",
    "from embedders.specific.mobility_to_distance_embedder import MobilityToDistanceEmbeder\n",
    "from embedders.specific.mobility_to_similarity_embedder import MobilityToSimilarityEmbeder\n",
    "from embedders.specific.aggregation_embedder import AggregationEmbedder\n",
    "\n",
    "# Clusteres\n",
    "from clusterers.specific.identity_clusterer import IdentityClusterer\n",
    "from clusterers.specific.quantile_clusterer import QuantileClusterer\n",
    "from clusterers.specific.sklearn_vector_clusterer import SklearnVectorClusterer\n",
    "from clusterers.specific.two_tier_dbscan_clusterer import TwoTierDBSCANClusterer\n",
    "from clusterers.specific.similarity_community_clusterer import SimilarityCommunityClusterer\n",
    "\n",
    "# Geographies\n",
    "from geography.specific.colombian_municipalities import ColombianMunicipalities\n",
    "from geography.specific.colombia_grid import ColombianGrid\n",
    "from geography.specific.colombia_rivers import ColombianRivers\n",
    "from geography.general.geography_from_flow_output import GeographyFromFlowOutput\n",
    "from geography.specific.colombia_indg_com import ColombianIndgCom\n",
    "from geography.specific.colombia_indg_terr import ColombianIndgTerr\n"
   ]
  },
  {
   "cell_type": "markdown",
   "metadata": {},
   "source": [
    "## 1. Cluster Rivers by Factors"
   ]
  },
  {
   "cell_type": "code",
   "execution_count": 40,
   "metadata": {},
   "outputs": [
    {
     "name": "stdout",
     "output_type": "stream",
     "text": [
      "Starts Flow: Basic Malaria\n",
      "   Loads Initial Geography\n",
      "   Loads Data\n",
      "      Loads Vector Data\n",
      "      Found 1 elements\n",
      "         Extracts 1 of 1: Malaria (malaria) \n",
      "      Done\n",
      "      \n",
      "      Loads Matrix Data\n",
      "      Found 0 elements\n",
      "      Done\n",
      "      ------------------\n",
      "   Embedds Data\n",
      "      Found 1 embedders\n",
      "         Identity Embedder\n",
      "   Clusters Data\n",
      "   Builds Final Geometry\n",
      "Flow Ended\n",
      "Done\n",
      "-----------------\n"
     ]
    }
   ],
   "source": [
    "# [TemperatureAverage, PrecipitationAverage, Coca,  GoldStockPrice, DeforestationAverage, Malaria]\n",
    "included_sources = [Malaria]\n",
    "included_matrix_sources = []\n",
    "target_col = 'malaria_num_cases_sum'\n",
    "target_mobility_col = \"fb_mobility_movement\"\n",
    "\n",
    "embedder = AggregationEmbedder()\n",
    "embedder.set_agregation_id(\"malaria_num_cases_sum\")\n",
    "\n",
    "flow = CustomFlow(ID = 'basic_malaria',\n",
    "                    name = \"Basic Malaria\",\n",
    "                    time_resolution = MONTH,\n",
    "                    geography = ColombianGrid(),\n",
    "                    vector_data_sources=included_sources,\n",
    "                    matrix_data_sources=included_matrix_sources,\n",
    "                    embedder=embedder,\n",
    "                    clusterer=QuantileClusterer('quantile',\n",
    "                                'Quantile',\n",
    "                                'malaria_num_cases_sum',\n",
    "                                quantiles=[0.25, 0.5, 0.75])\n",
    "                    )\n",
    "\n",
    "flow.run()\n"
   ]
  },
  {
   "cell_type": "code",
   "execution_count": 42,
   "metadata": {},
   "outputs": [
    {
     "name": "stdout",
     "output_type": "stream",
     "text": [
      "12071\n",
      "epsg:4326\n"
     ]
    },
    {
     "data": {
      "text/plain": [
       "<AxesSubplot:>"
      ]
     },
     "execution_count": 42,
     "metadata": {},
     "output_type": "execute_result"
    },
    {
     "data": {
      "image/png": "[encoded data removed]",
      "text/plain": [
       "<Figure size 432x288 with 2 Axes>"
      ]
     },
     "metadata": {
      "needs_background": "light"
     },
     "output_type": "display_data"
    }
   ],
   "source": [
    "print(flow.final_geometry.shape[0])\n",
    "print(flow.final_geometry.crs)\n",
    "flow.final_geometry[CLUSTER_ID] = flow.final_geometry[ID].apply(lambda i : i)\n",
    "flow.final_geometry.plot(column = CLUSTER_ID, legend=True)"
   ]
  },
  {
   "cell_type": "code",
   "execution_count": 43,
   "metadata": {},
   "outputs": [
    {
     "data": {
      "text/html": [
       "<div>\n",
       "<style scoped>\n",
       "    .dataframe tbody tr th:only-of-type {\n",
       "        vertical-align: middle;\n",
       "    }\n",
       "\n",
       "    .dataframe tbody tr th {\n",
       "        vertical-align: top;\n",
       "    }\n",
       "\n",
       "    .dataframe thead th {\n",
       "        text-align: right;\n",
       "    }\n",
       "</style>\n",
       "<table border=\"1\" class=\"dataframe\">\n",
       "  <thead>\n",
       "    <tr style=\"text-align: right;\">\n",
       "      <th></th>\n",
       "      <th>ID</th>\n",
       "      <th>geometry</th>\n",
       "      <th>cluster_id</th>\n",
       "    </tr>\n",
       "  </thead>\n",
       "  <tbody>\n",
       "    <tr>\n",
       "      <th>0</th>\n",
       "      <td>0</td>\n",
       "      <td>MULTIPOLYGON (((-81.68892 12.55114, -81.68873 ...</td>\n",
       "      <td>0</td>\n",
       "    </tr>\n",
       "    <tr>\n",
       "      <th>1</th>\n",
       "      <td>1</td>\n",
       "      <td>POLYGON ((-72.39314 2.10935, -72.30331 2.10935...</td>\n",
       "      <td>1</td>\n",
       "    </tr>\n",
       "    <tr>\n",
       "      <th>2</th>\n",
       "      <td>2</td>\n",
       "      <td>POLYGON ((-72.39314 2.19912, -72.30331 2.19912...</td>\n",
       "      <td>2</td>\n",
       "    </tr>\n",
       "    <tr>\n",
       "      <th>3</th>\n",
       "      <td>3</td>\n",
       "      <td>POLYGON ((-72.39314 2.28888, -72.30331 2.28888...</td>\n",
       "      <td>3</td>\n",
       "    </tr>\n",
       "    <tr>\n",
       "      <th>4</th>\n",
       "      <td>4</td>\n",
       "      <td>POLYGON ((-76.52539 0.67251, -76.43556 0.67251...</td>\n",
       "      <td>4</td>\n",
       "    </tr>\n",
       "  </tbody>\n",
       "</table>\n",
       "</div>"
      ],
      "text/plain": [
       "   ID                                           geometry  cluster_id\n",
       "0   0  MULTIPOLYGON (((-81.68892 12.55114, -81.68873 ...           0\n",
       "1   1  POLYGON ((-72.39314 2.10935, -72.30331 2.10935...           1\n",
       "2   2  POLYGON ((-72.39314 2.19912, -72.30331 2.19912...           2\n",
       "3   3  POLYGON ((-72.39314 2.28888, -72.30331 2.28888...           3\n",
       "4   4  POLYGON ((-76.52539 0.67251, -76.43556 0.67251...           4"
      ]
     },
     "execution_count": 43,
     "metadata": {},
     "output_type": "execute_result"
    }
   ],
   "source": [
    "flow.final_geometry.head()"
   ]
  },
  {
   "cell_type": "code",
   "execution_count": null,
   "metadata": {},
   "outputs": [],
   "source": []
  }
 ],
 "metadata": {
  "kernelspec": {
   "display_name": "malaria_pl",
   "language": "python",
   "name": "malaria_pl"
  },
  "language_info": {
   "codemirror_mode": {
    "name": "ipython",
    "version": 3
   },
   "file_extension": ".py",
   "mimetype": "text/x-python",
   "name": "python",
   "nbconvert_exporter": "python",
   "pygments_lexer": "ipython3",
   "version": "3.9.7"
  },
  "orig_nbformat": 4
 },
 "nbformat": 4,
 "nbformat_minor": 2
}
