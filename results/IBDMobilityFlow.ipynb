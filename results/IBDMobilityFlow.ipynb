{
 "cells": [
  {
   "cell_type": "code",
   "execution_count": 1,
   "metadata": {},
   "outputs": [],
   "source": [
    "import sys\n",
    "sys.path.append('../src/')\n"
   ]
  },
  {
   "cell_type": "code",
   "execution_count": 2,
   "metadata": {},
   "outputs": [
    {
     "name": "stderr",
     "output_type": "stream",
     "text": [
      "/Users/andreaparra/Virtual-Envs/malaria_pl/lib/python3.9/site-packages/geopandas/_compat.py:111: UserWarning: The Shapely GEOS version (3.10.2-CAPI-1.16.0) is incompatible with the GEOS version PyGEOS was compiled with (3.10.1-CAPI-1.16.0). Conversions between both will be slow.\n",
      "  warnings.warn(\n"
     ]
    }
   ],
   "source": [
    "import os\n",
    "import numpy as np\n",
    "import pandas as pd\n",
    "import geopandas as gpd\n",
    "import matplotlib.pyplot as plt\n",
    "from shapely.geometry import Point\n",
    "from sklearn.cluster import KMeans\n",
    "from shapely.ops import cascaded_union\n",
    "from shapely.geometry import MultiPolygon\n",
    "from sklearn.linear_model import LinearRegression"
   ]
  },
  {
   "cell_type": "code",
   "execution_count": 4,
   "metadata": {},
   "outputs": [
    {
     "name": "stdout",
     "output_type": "stream",
     "text": [
      "The Zen of Python, by Tim Peters\n",
      "\n",
      "Beautiful is better than ugly.\n",
      "Explicit is better than implicit.\n",
      "Simple is better than complex.\n",
      "Complex is better than complicated.\n",
      "Flat is better than nested.\n",
      "Sparse is better than dense.\n",
      "Readability counts.\n",
      "Special cases aren't special enough to break the rules.\n",
      "Although practicality beats purity.\n",
      "Errors should never pass silently.\n",
      "Unless explicitly silenced.\n",
      "In the face of ambiguity, refuse the temptation to guess.\n",
      "There should be one-- and preferably only one --obvious way to do it.\n",
      "Although that way may not be obvious at first unless you're Dutch.\n",
      "Now is better than never.\n",
      "Although never is often better than *right* now.\n",
      "If the implementation is hard to explain, it's a bad idea.\n",
      "If the implementation is easy to explain, it may be a good idea.\n",
      "Namespaces are one honking great idea -- let's do more of those!\n"
     ]
    }
   ],
   "source": [
    "%matplotlib inline\n",
    "\n",
    "# Useful imports\n",
    "import seaborn as sns\n",
    "import pandas as pd\n",
    "import matplotlib.pyplot as plt\n",
    "import numpy as np\n",
    "from constants import *\n",
    "from utils.publication_functions import beautify_data_column_name\n",
    "from sklearn.cluster import KMeans\n",
    "from flows.specific.custom_flow import CustomFlow\n",
    "\n",
    "# Data sources\n",
    "from data_sources.specific.ibd import IBD\n",
    "from data_sources.specific.coca import Coca\n",
    "from data_sources.specific.gold_export import GoldExport\n",
    "from data_sources.specific.gold_stock_price import GoldStockPrice\n",
    "from data_sources.specific.malaria_cases import Malaria\n",
    "from data_sources.specific.mock_malaria_cases import MockMalaria\n",
    "from data_sources.specific.temperature_average import TemperatureAverage\n",
    "from data_sources.specific.temperature_max import TemperatureMax\n",
    "from data_sources.specific.temperature_min import TemperatureMin\n",
    "from data_sources.specific.temperature_average import TemperatureAverage\n",
    "from data_sources.specific.precipitation_average import PrecipitationAverage\n",
    "from data_sources.specific.precipitation_total import PrecipitationTotal\n",
    "from data_sources.specific.deforestation_average import DeforestationAverage\n",
    "from data_sources.specific.deforestation_total import DeforestationTotal\n",
    "from data_sources.specific.fb_mobility_recent import FBMobilityRecent\n",
    "from data_sources.specific.fb_mobility_all import FBMobilityAll\n",
    "\n",
    "# Embedders\n",
    "from embedders.specific.identity_embedder import IdentityEmbbeder\n",
    "from embedders.specific.linear_regression_coefficient_embedder import LinearRegressionCoefficientEmbedder\n",
    "from embedders.specific.mobility_to_distance_embedder import MobilityToDistanceEmbeder\n",
    "from embedders.specific.mobility_to_similarity_embedder import MobilityToSimilarityEmbeder\n",
    "from embedders.specific.aggregation_embedder import AggregationEmbedder\n",
    "\n",
    "# Clusteres\n",
    "from clusterers.specific.identity_clusterer import IdentityClusterer\n",
    "from clusterers.specific.quantile_clusterer import QuantileClusterer\n",
    "from clusterers.specific.sklearn_vector_clusterer import SklearnVectorClusterer\n",
    "from clusterers.specific.two_tier_dbscan_clusterer import TwoTierDBSCANClusterer\n",
    "from clusterers.specific.similarity_community_clusterer import SimilarityCommunityClusterer\n",
    "\n",
    "# Geographies\n",
    "from geography.specific.colombian_municipalities import ColombianMunicipalities\n",
    "from geography.specific.choco_municipalities import ChocoMunicipalities\n",
    "from geography.specific.costa_pacifica_municipalities import CostaPacificaMunicipalities\n",
    "from geography.specific.colombia_grid import ColombianGrid\n",
    "from geography.specific.colombia_rivers import ColombianRivers\n",
    "from geography.general.geography_from_flow_output import GeographyFromFlowOutput\n",
    "from geography.specific.colombia_indg_com import ColombianIndgCom\n",
    "from geography.specific.colombia_indg_terr import ColombianIndgTerr\n",
    "\n",
    "# Flows\n",
    "from flows.specific.custom_flow import  CustomFlow"
   ]
  },
  {
   "cell_type": "code",
   "execution_count": 42,
   "metadata": {},
   "outputs": [],
   "source": [
    "source = IBD\n",
    "source.set_distance(source, \"min\")\n",
    "\n",
    "ibd_flow = CustomFlow(ID = 'ibd_analysis',\n",
    "                    name = \"IBD Analysis\",\n",
    "                    time_resolution = DAY,\n",
    "                    geography = CostaPacificaMunicipalities(),\n",
    "                    vector_data_sources=[],\n",
    "                    matrix_data_sources=[IBD],\n",
    "                    embedder=IdentityEmbbeder(),\n",
    "                    clusterer=IdentityClusterer()\n",
    "                    )"
   ]
  },
  {
   "cell_type": "code",
   "execution_count": 43,
   "metadata": {},
   "outputs": [
    {
     "name": "stdout",
     "output_type": "stream",
     "text": [
      "         Starts Flow: IBD Analysis\n",
      "            Loads Initial Geography\n",
      "            Loads Data\n",
      "               Loads Vector Data\n",
      "               Found 0 elements\n",
      "               Done\n",
      "               \n",
      "               Loads Matrix Data\n",
      "               Found 1 elements\n",
      "                  Extracts 1 of 1: Identity by descent (ibd-min) \n",
      "               Done\n",
      "               ------------------\n",
      "            Embedds Data\n",
      "               Found 1 embedders\n",
      "                  Identity Embedder\n",
      "            Clusters Data\n",
      "            Builds Final Geometry\n",
      "Warning: Error in building final geography. The geography ids: {52612, 52490, 27787, 27660, 52621, 27150, 27025, 27413, 27160, 27800, 52250, 27425, 27810, 27430, 52390, 52520, 27050, 27450, 27580, 27073, 27075, 27077, 27205, 52473, 52427, 27600, 52435, 52696, 19418, 27099, 27615, 19809, 27361, 52835, 27491, 27745, 27495, 27372, 27245, 52079, 27250, 19318, 27001, 27006, 27135} are missing in the clustered ids\n",
      "         Flow Ended\n",
      "         Done\n",
      "         -----------------\n"
     ]
    }
   ],
   "source": [
    "ibd_flow.run()"
   ]
  },
  {
   "cell_type": "code",
   "execution_count": 44,
   "metadata": {},
   "outputs": [
    {
     "data": {
      "text/html": [
       "<div>\n",
       "<style scoped>\n",
       "    .dataframe tbody tr th:only-of-type {\n",
       "        vertical-align: middle;\n",
       "    }\n",
       "\n",
       "    .dataframe tbody tr th {\n",
       "        vertical-align: top;\n",
       "    }\n",
       "\n",
       "    .dataframe thead th {\n",
       "        text-align: right;\n",
       "    }\n",
       "</style>\n",
       "<table border=\"1\" class=\"dataframe\">\n",
       "  <thead>\n",
       "    <tr style=\"text-align: right;\">\n",
       "      <th></th>\n",
       "      <th>date</th>\n",
       "      <th>ID_1</th>\n",
       "      <th>ID_2</th>\n",
       "      <th>ibd-min_ibd</th>\n",
       "    </tr>\n",
       "  </thead>\n",
       "  <tbody>\n",
       "    <tr>\n",
       "      <th>0</th>\n",
       "      <td>2020-01-09</td>\n",
       "      <td>76109</td>\n",
       "      <td>19318</td>\n",
       "      <td>0.04654</td>\n",
       "    </tr>\n",
       "    <tr>\n",
       "      <th>1</th>\n",
       "      <td>2020-03-08</td>\n",
       "      <td>76109</td>\n",
       "      <td>27001</td>\n",
       "      <td>0.22084</td>\n",
       "    </tr>\n",
       "    <tr>\n",
       "      <th>3</th>\n",
       "      <td>2020-04-05</td>\n",
       "      <td>76109</td>\n",
       "      <td>19318</td>\n",
       "      <td>0.11606</td>\n",
       "    </tr>\n",
       "    <tr>\n",
       "      <th>4</th>\n",
       "      <td>2020-04-08</td>\n",
       "      <td>76109</td>\n",
       "      <td>19318</td>\n",
       "      <td>0.15628</td>\n",
       "    </tr>\n",
       "    <tr>\n",
       "      <th>5</th>\n",
       "      <td>2020-04-09</td>\n",
       "      <td>76109</td>\n",
       "      <td>19318</td>\n",
       "      <td>0.34378</td>\n",
       "    </tr>\n",
       "  </tbody>\n",
       "</table>\n",
       "</div>"
      ],
      "text/plain": [
       "        date   ID_1   ID_2  ibd-min_ibd\n",
       "0 2020-01-09  76109  19318      0.04654\n",
       "1 2020-03-08  76109  27001      0.22084\n",
       "3 2020-04-05  76109  19318      0.11606\n",
       "4 2020-04-08  76109  19318      0.15628\n",
       "5 2020-04-09  76109  19318      0.34378"
      ]
     },
     "execution_count": 44,
     "metadata": {},
     "output_type": "execute_result"
    }
   ],
   "source": [
    "df_ibd = ibd_flow.df_matrix[ibd_flow.df_matrix[ID_1] != ibd_flow.df_matrix[ID_2]]\n",
    "df_ibd.head()"
   ]
  },
  {
   "cell_type": "code",
   "execution_count": 34,
   "metadata": {},
   "outputs": [],
   "source": [
    "fb_flow = CustomFlow(ID = 'fb_analysis',\n",
    "                    name = \"Fb Analysis\",\n",
    "                    time_resolution = DAY,\n",
    "                    geography = CostaPacificaMunicipalities(),\n",
    "                    vector_data_sources=[],\n",
    "                    matrix_data_sources=[FBMobilityAll],\n",
    "                    embedder=IdentityEmbbeder(),\n",
    "                    clusterer=IdentityClusterer()\n",
    "                    )"
   ]
  },
  {
   "cell_type": "code",
   "execution_count": 35,
   "metadata": {},
   "outputs": [
    {
     "name": "stdout",
     "output_type": "stream",
     "text": [
      "         Starts Flow: Fb Analysis\n",
      "            Loads Initial Geography\n",
      "            Loads Data\n",
      "               Loads Vector Data\n",
      "               Found 0 elements\n",
      "               Done\n",
      "               \n",
      "               Loads Matrix Data\n",
      "               Found 1 elements\n",
      "                  Extracts 1 of 1: Facebook Mobility All (fb_mobility_all) \n",
      "               Done\n",
      "               ------------------\n",
      "            Embedds Data\n",
      "               Found 1 embedders\n",
      "                  Identity Embedder\n",
      "            Clusters Data\n",
      "            Builds Final Geometry\n",
      "         Flow Ended\n",
      "         Done\n",
      "         -----------------\n"
     ]
    }
   ],
   "source": [
    "fb_flow.run()"
   ]
  },
  {
   "cell_type": "code",
   "execution_count": 36,
   "metadata": {},
   "outputs": [
    {
     "data": {
      "text/html": [
       "<div>\n",
       "<style scoped>\n",
       "    .dataframe tbody tr th:only-of-type {\n",
       "        vertical-align: middle;\n",
       "    }\n",
       "\n",
       "    .dataframe tbody tr th {\n",
       "        vertical-align: top;\n",
       "    }\n",
       "\n",
       "    .dataframe thead th {\n",
       "        text-align: right;\n",
       "    }\n",
       "</style>\n",
       "<table border=\"1\" class=\"dataframe\">\n",
       "  <thead>\n",
       "    <tr style=\"text-align: right;\">\n",
       "      <th></th>\n",
       "      <th>date</th>\n",
       "      <th>ID_1</th>\n",
       "      <th>ID_2</th>\n",
       "      <th>fb_mobility_all_movement</th>\n",
       "    </tr>\n",
       "  </thead>\n",
       "  <tbody>\n",
       "    <tr>\n",
       "      <th>0</th>\n",
       "      <td>2020-04-02</td>\n",
       "      <td>19318.0</td>\n",
       "      <td>19318</td>\n",
       "      <td>56.0</td>\n",
       "    </tr>\n",
       "    <tr>\n",
       "      <th>1</th>\n",
       "      <td>2020-04-02</td>\n",
       "      <td>52490.0</td>\n",
       "      <td>27580</td>\n",
       "      <td>0.0</td>\n",
       "    </tr>\n",
       "    <tr>\n",
       "      <th>2</th>\n",
       "      <td>2020-04-02</td>\n",
       "      <td>52490.0</td>\n",
       "      <td>27495</td>\n",
       "      <td>0.0</td>\n",
       "    </tr>\n",
       "    <tr>\n",
       "      <th>3</th>\n",
       "      <td>2020-04-02</td>\n",
       "      <td>52490.0</td>\n",
       "      <td>27491</td>\n",
       "      <td>0.0</td>\n",
       "    </tr>\n",
       "    <tr>\n",
       "      <th>4</th>\n",
       "      <td>2020-04-02</td>\n",
       "      <td>52490.0</td>\n",
       "      <td>52835</td>\n",
       "      <td>0.0</td>\n",
       "    </tr>\n",
       "  </tbody>\n",
       "</table>\n",
       "</div>"
      ],
      "text/plain": [
       "        date     ID_1   ID_2  fb_mobility_all_movement\n",
       "0 2020-04-02  19318.0  19318                      56.0\n",
       "1 2020-04-02  52490.0  27580                       0.0\n",
       "2 2020-04-02  52490.0  27495                       0.0\n",
       "3 2020-04-02  52490.0  27491                       0.0\n",
       "4 2020-04-02  52490.0  52835                       0.0"
      ]
     },
     "execution_count": 36,
     "metadata": {},
     "output_type": "execute_result"
    }
   ],
   "source": [
    "fb_flow.df_matrix.head()"
   ]
  },
  {
   "cell_type": "code",
   "execution_count": 37,
   "metadata": {},
   "outputs": [
    {
     "data": {
      "text/html": [
       "<div>\n",
       "<style scoped>\n",
       "    .dataframe tbody tr th:only-of-type {\n",
       "        vertical-align: middle;\n",
       "    }\n",
       "\n",
       "    .dataframe tbody tr th {\n",
       "        vertical-align: top;\n",
       "    }\n",
       "\n",
       "    .dataframe thead th {\n",
       "        text-align: right;\n",
       "    }\n",
       "</style>\n",
       "<table border=\"1\" class=\"dataframe\">\n",
       "  <thead>\n",
       "    <tr style=\"text-align: right;\">\n",
       "      <th></th>\n",
       "      <th>date</th>\n",
       "      <th>ID_1</th>\n",
       "      <th>ID_2</th>\n",
       "      <th>fb_mobility_all_movement</th>\n",
       "    </tr>\n",
       "  </thead>\n",
       "  <tbody>\n",
       "    <tr>\n",
       "      <th>1</th>\n",
       "      <td>2020-04-02</td>\n",
       "      <td>52490.0</td>\n",
       "      <td>27580</td>\n",
       "      <td>0.0</td>\n",
       "    </tr>\n",
       "    <tr>\n",
       "      <th>2</th>\n",
       "      <td>2020-04-02</td>\n",
       "      <td>52490.0</td>\n",
       "      <td>27495</td>\n",
       "      <td>0.0</td>\n",
       "    </tr>\n",
       "    <tr>\n",
       "      <th>3</th>\n",
       "      <td>2020-04-02</td>\n",
       "      <td>52490.0</td>\n",
       "      <td>27491</td>\n",
       "      <td>0.0</td>\n",
       "    </tr>\n",
       "    <tr>\n",
       "      <th>4</th>\n",
       "      <td>2020-04-02</td>\n",
       "      <td>52490.0</td>\n",
       "      <td>52835</td>\n",
       "      <td>0.0</td>\n",
       "    </tr>\n",
       "    <tr>\n",
       "      <th>5</th>\n",
       "      <td>2020-04-02</td>\n",
       "      <td>52490.0</td>\n",
       "      <td>52696</td>\n",
       "      <td>0.0</td>\n",
       "    </tr>\n",
       "  </tbody>\n",
       "</table>\n",
       "</div>"
      ],
      "text/plain": [
       "        date     ID_1   ID_2  fb_mobility_all_movement\n",
       "1 2020-04-02  52490.0  27580                       0.0\n",
       "2 2020-04-02  52490.0  27495                       0.0\n",
       "3 2020-04-02  52490.0  27491                       0.0\n",
       "4 2020-04-02  52490.0  52835                       0.0\n",
       "5 2020-04-02  52490.0  52696                       0.0"
      ]
     },
     "execution_count": 37,
     "metadata": {},
     "output_type": "execute_result"
    }
   ],
   "source": [
    "df_fb = fb_flow.df_matrix[fb_flow.df_matrix[ID_1] != fb_flow.df_matrix[ID_2]]\n",
    "df_fb.head()"
   ]
  },
  {
   "cell_type": "code",
   "execution_count": 47,
   "metadata": {},
   "outputs": [
    {
     "name": "stdout",
     "output_type": "stream",
     "text": [
      "[0.]\n"
     ]
    },
    {
     "data": {
      "text/html": [
       "<div>\n",
       "<style scoped>\n",
       "    .dataframe tbody tr th:only-of-type {\n",
       "        vertical-align: middle;\n",
       "    }\n",
       "\n",
       "    .dataframe tbody tr th {\n",
       "        vertical-align: top;\n",
       "    }\n",
       "\n",
       "    .dataframe thead th {\n",
       "        text-align: right;\n",
       "    }\n",
       "</style>\n",
       "<table border=\"1\" class=\"dataframe\">\n",
       "  <thead>\n",
       "    <tr style=\"text-align: right;\">\n",
       "      <th></th>\n",
       "      <th>date</th>\n",
       "      <th>ID_1</th>\n",
       "      <th>ID_2</th>\n",
       "      <th>ibd-min_ibd</th>\n",
       "      <th>fb_mobility_all_movement</th>\n",
       "    </tr>\n",
       "  </thead>\n",
       "  <tbody>\n",
       "    <tr>\n",
       "      <th>2</th>\n",
       "      <td>2020-04-05</td>\n",
       "      <td>76109.0</td>\n",
       "      <td>19318</td>\n",
       "      <td>0.11606</td>\n",
       "      <td>0.0</td>\n",
       "    </tr>\n",
       "    <tr>\n",
       "      <th>3</th>\n",
       "      <td>2020-04-08</td>\n",
       "      <td>76109.0</td>\n",
       "      <td>19318</td>\n",
       "      <td>0.15628</td>\n",
       "      <td>0.0</td>\n",
       "    </tr>\n",
       "    <tr>\n",
       "      <th>4</th>\n",
       "      <td>2020-04-09</td>\n",
       "      <td>76109.0</td>\n",
       "      <td>19318</td>\n",
       "      <td>0.34378</td>\n",
       "      <td>0.0</td>\n",
       "    </tr>\n",
       "    <tr>\n",
       "      <th>5</th>\n",
       "      <td>2020-04-22</td>\n",
       "      <td>76109.0</td>\n",
       "      <td>27001</td>\n",
       "      <td>0.32047</td>\n",
       "      <td>0.0</td>\n",
       "    </tr>\n",
       "    <tr>\n",
       "      <th>6</th>\n",
       "      <td>2020-04-30</td>\n",
       "      <td>76109.0</td>\n",
       "      <td>19318</td>\n",
       "      <td>0.12005</td>\n",
       "      <td>0.0</td>\n",
       "    </tr>\n",
       "  </tbody>\n",
       "</table>\n",
       "</div>"
      ],
      "text/plain": [
       "        date     ID_1   ID_2  ibd-min_ibd  fb_mobility_all_movement\n",
       "2 2020-04-05  76109.0  19318      0.11606                       0.0\n",
       "3 2020-04-08  76109.0  19318      0.15628                       0.0\n",
       "4 2020-04-09  76109.0  19318      0.34378                       0.0\n",
       "5 2020-04-22  76109.0  27001      0.32047                       0.0\n",
       "6 2020-04-30  76109.0  19318      0.12005                       0.0"
      ]
     },
     "execution_count": 47,
     "metadata": {},
     "output_type": "execute_result"
    }
   ],
   "source": [
    "df = df_ibd.merge(df_fb, on=[\"date\", \"ID_1\", \"ID_2\"], how=\"outer\").dropna()\n",
    "print(df[\"fb_mobility_all_movement\"].unique())\n",
    "df.head()"
   ]
  },
  {
   "cell_type": "code",
   "execution_count": 45,
   "metadata": {},
   "outputs": [
    {
     "name": "stdout",
     "output_type": "stream",
     "text": [
      "0 1.0 y = [0.]x + 0.0\n",
      "1 1.0 y = [0.]x + 0.0\n",
      "2 1.0 y = [0.]x + 0.0\n",
      "3 1.0 y = [0.]x + 0.0\n",
      "4 1.0 y = [0.]x + 0.0\n",
      "5 1.0 y = [0.]x + 0.0\n",
      "6 1.0 y = [0.]x + 0.0\n",
      "7 1.0 y = [-0.]x + 0.0\n",
      "8 1.0 y = [0.]x + 0.0\n",
      "9 1.0 y = [0.]x + 0.0\n",
      "10 1.0 y = [0.]x + 0.0\n",
      "11 1.0 y = [0.]x + 0.0\n",
      "12 1.0 y = [0.]x + 0.0\n",
      "13 1.0 y = [0.]x + 0.0\n",
      "14 1.0 y = [0.]x + 0.0\n"
     ]
    }
   ],
   "source": [
    "scores = []\n",
    "for d in range(0,15):\n",
    "    # shift movement\n",
    "    df_fb_tmp = df_fb.copy()\n",
    "    df_fb_tmp[\"date\"]  = df_fb[\"date\"] + pd.Timedelta(days=d)\n",
    "    \n",
    "    df = df_ibd.merge(df_fb_tmp, on=[\"date\", \"ID_1\", \"ID_2\"], how=\"outer\").dropna()\n",
    "    if df.empty:\n",
    "        print(print(d, \"no data\"))\n",
    "        continue\n",
    "\n",
    "    X = df[\"ibd-min_ibd\"].to_numpy().reshape(-1, 1)\n",
    "    y = df[\"fb_mobility_all_movement\"].to_numpy()\n",
    "\n",
    "    reg = LinearRegression().fit(X, y)\n",
    "    m = reg.coef_\n",
    "    b = reg.intercept_\n",
    "    print(d, reg.score(X, y), f\"y = {m}x + {b}\")\n",
    "    scores.append(reg.score(X, y))\n"
   ]
  },
  {
   "cell_type": "code",
   "execution_count": 19,
   "metadata": {},
   "outputs": [
    {
     "data": {
      "text/plain": [
       "[<matplotlib.lines.Line2D at 0x183b69af0>]"
      ]
     },
     "execution_count": 19,
     "metadata": {},
     "output_type": "execute_result"
    },
    {
     "data": {
      "image/png": "[encoded data removed]",
      "text/plain": [
       "<Figure size 432x288 with 1 Axes>"
      ]
     },
     "metadata": {
      "needs_background": "light"
     },
     "output_type": "display_data"
    }
   ],
   "source": [
    "plt.plot(range(0,15), scores)"
   ]
  },
  {
   "cell_type": "code",
   "execution_count": 22,
   "metadata": {},
   "outputs": [
    {
     "name": "stdout",
     "output_type": "stream",
     "text": [
      "         Starts Flow: IBD Analysis\n",
      "            Loads Initial Geography\n",
      "            Loads Data\n",
      "               Loads Vector Data\n",
      "               Found 0 elements\n",
      "               Done\n",
      "               \n",
      "               Loads Matrix Data\n",
      "               Found 1 elements\n",
      "                  Extracts 1 of 1: Identity by descent (ibd-hausdorff) \n",
      "               Done\n",
      "               ------------------\n",
      "            Embedds Data\n",
      "               Found 1 embedders\n",
      "                  Identity Embedder\n",
      "            Clusters Data\n",
      "            Builds Final Geometry\n",
      "Warning: Error in building final geography. The geography ids: {52612, 52490, 27787, 27660, 52621, 27150, 27025, 27413, 27160, 27800, 52250, 27425, 27810, 27430, 52390, 52520, 27050, 27450, 27580, 27073, 27075, 27077, 27205, 52473, 52427, 27600, 52435, 52696, 19418, 27099, 27615, 19809, 27361, 52835, 27491, 27745, 27495, 27372, 27245, 52079, 27250, 19318, 27001, 27006, 27135} are missing in the clustered ids\n",
      "         Flow Ended\n",
      "         Done\n",
      "         -----------------\n"
     ]
    }
   ],
   "source": [
    "source = IBD\n",
    "source.set_distance(source, \"hausdorff\")\n",
    "\n",
    "ibd_flow = CustomFlow(ID = 'ibd_analysis',\n",
    "                    name = \"IBD Analysis\",\n",
    "                    time_resolution = DAY,\n",
    "                    geography = CostaPacificaMunicipalities(),\n",
    "                    vector_data_sources=[],\n",
    "                    matrix_data_sources=[IBD],\n",
    "                    embedder=IdentityEmbbeder(),\n",
    "                    clusterer=IdentityClusterer()\n",
    "                    )\n",
    "\n",
    "ibd_flow.run()"
   ]
  },
  {
   "cell_type": "code",
   "execution_count": 23,
   "metadata": {},
   "outputs": [
    {
     "data": {
      "text/html": [
       "<div>\n",
       "<style scoped>\n",
       "    .dataframe tbody tr th:only-of-type {\n",
       "        vertical-align: middle;\n",
       "    }\n",
       "\n",
       "    .dataframe tbody tr th {\n",
       "        vertical-align: top;\n",
       "    }\n",
       "\n",
       "    .dataframe thead th {\n",
       "        text-align: right;\n",
       "    }\n",
       "</style>\n",
       "<table border=\"1\" class=\"dataframe\">\n",
       "  <thead>\n",
       "    <tr style=\"text-align: right;\">\n",
       "      <th></th>\n",
       "      <th>date</th>\n",
       "      <th>ID_1</th>\n",
       "      <th>ID_2</th>\n",
       "      <th>ibd-hausdorff_hausdorff</th>\n",
       "    </tr>\n",
       "  </thead>\n",
       "  <tbody>\n",
       "    <tr>\n",
       "      <th>0</th>\n",
       "      <td>2020-01-09</td>\n",
       "      <td>76109</td>\n",
       "      <td>19318</td>\n",
       "      <td>0.229079</td>\n",
       "    </tr>\n",
       "    <tr>\n",
       "      <th>1</th>\n",
       "      <td>2020-03-08</td>\n",
       "      <td>76109</td>\n",
       "      <td>27001</td>\n",
       "      <td>0.240190</td>\n",
       "    </tr>\n",
       "    <tr>\n",
       "      <th>2</th>\n",
       "      <td>2020-03-08</td>\n",
       "      <td>76109</td>\n",
       "      <td>76109</td>\n",
       "      <td>0.473170</td>\n",
       "    </tr>\n",
       "    <tr>\n",
       "      <th>3</th>\n",
       "      <td>2020-04-05</td>\n",
       "      <td>76109</td>\n",
       "      <td>19318</td>\n",
       "      <td>0.316918</td>\n",
       "    </tr>\n",
       "    <tr>\n",
       "      <th>4</th>\n",
       "      <td>2020-04-08</td>\n",
       "      <td>76109</td>\n",
       "      <td>19318</td>\n",
       "      <td>0.156280</td>\n",
       "    </tr>\n",
       "  </tbody>\n",
       "</table>\n",
       "</div>"
      ],
      "text/plain": [
       "        date   ID_1   ID_2  ibd-hausdorff_hausdorff\n",
       "0 2020-01-09  76109  19318                 0.229079\n",
       "1 2020-03-08  76109  27001                 0.240190\n",
       "2 2020-03-08  76109  76109                 0.473170\n",
       "3 2020-04-05  76109  19318                 0.316918\n",
       "4 2020-04-08  76109  19318                 0.156280"
      ]
     },
     "execution_count": 23,
     "metadata": {},
     "output_type": "execute_result"
    }
   ],
   "source": [
    "df_ibd = ibd_flow.df_matrix\n",
    "df_ibd.head()"
   ]
  },
  {
   "cell_type": "code",
   "execution_count": 30,
   "metadata": {},
   "outputs": [
    {
     "name": "stdout",
     "output_type": "stream",
     "text": [
      "0 1.0 y = [0.]x + 0.0\n",
      "1 1.0 y = [0.]x + 0.0\n",
      "2 1.0 y = [0.]x + 0.0\n",
      "3 1.0 y = [0.]x + 0.0\n",
      "4 1.0 y = [0.]x + 0.0\n",
      "5 1.0 y = [0.]x + 0.0\n",
      "6 1.0 y = [0.]x + 0.0\n",
      "7 1.0 y = [0.]x + 0.0\n",
      "8 1.0 y = [-0.]x + 0.0\n",
      "9 1.0 y = [-0.]x + 0.0\n",
      "10 1.0 y = [-0.]x + 0.0\n",
      "11 1.0 y = [-0.]x + 0.0\n",
      "12 1.0 y = [-0.]x + 0.0\n",
      "13 1.0 y = [-0.]x + 0.0\n",
      "14 1.0 y = [-0.]x + 0.0\n"
     ]
    }
   ],
   "source": [
    "scores = []\n",
    "for d in range(0,15):\n",
    "    # shift movement\n",
    "    df_fb_tmp = df_fb.copy()\n",
    "    df_fb_tmp[\"date\"]  = df_fb[\"date\"] + pd.Timedelta(days=d)\n",
    "    \n",
    "    df = df_ibd.merge(df_fb_tmp, on=[\"date\", \"ID_1\", \"ID_2\"], how=\"outer\").dropna()\n",
    "    if df.empty:\n",
    "        print(print(d, \"no data\"))\n",
    "        continue\n",
    "\n",
    "    X = df[\"ibd-hausdorff_hausdorff\"].to_numpy().reshape(-1, 1)\n",
    "    y = df[\"fb_mobility_all_movement\"].to_numpy()\n",
    "\n",
    "    reg = LinearRegression().fit(X, y)\n",
    "    m = reg.coef_\n",
    "    b = reg.intercept_\n",
    "    print(d, reg.score(X, y), f\"y = {m}x + {b}\")\n",
    "    scores.append(reg.score(X, y))"
   ]
  },
  {
   "cell_type": "code",
   "execution_count": 26,
   "metadata": {},
   "outputs": [
    {
     "data": {
      "text/plain": [
       "[<matplotlib.lines.Line2D at 0x1e3b20fd0>]"
      ]
     },
     "execution_count": 26,
     "metadata": {},
     "output_type": "execute_result"
    },
    {
     "data": {
      "image/png": "[encoded data removed]",
      "text/plain": [
       "<Figure size 432x288 with 1 Axes>"
      ]
     },
     "metadata": {
      "needs_background": "light"
     },
     "output_type": "display_data"
    }
   ],
   "source": [
    "plt.plot(range(0,15), scores)"
   ]
  },
  {
   "cell_type": "code",
   "execution_count": null,
   "metadata": {},
   "outputs": [],
   "source": []
  }
 ],
 "metadata": {
  "kernelspec": {
   "display_name": "malaria_pl",
   "language": "python",
   "name": "malaria_pl"
  },
  "language_info": {
   "codemirror_mode": {
    "name": "ipython",
    "version": 3
   },
   "file_extension": ".py",
   "mimetype": "text/x-python",
   "name": "python",
   "nbconvert_exporter": "python",
   "pygments_lexer": "ipython3",
   "version": "3.9.7"
  },
  "orig_nbformat": 4
 },
 "nbformat": 4,
 "nbformat_minor": 2
}
